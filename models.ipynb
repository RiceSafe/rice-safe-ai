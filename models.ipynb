{
 "cells": [
  {
   "metadata": {
    "ExecuteTime": {
     "end_time": "2025-05-15T13:34:14.571353Z",
     "start_time": "2025-05-15T13:33:59.230060Z"
    }
   },
   "cell_type": "code",
   "source": [
    "import os\n",
    "import torch\n",
    "import numpy as np\n",
    "import pandas as pd\n",
    "import matplotlib.pyplot as plt\n",
    "from matplotlib import font_manager as fm\n",
    "from tensorflow.keras.models import Sequential, load_model\n",
    "from tensorflow.keras.layers import Dense, Dropout, Input, BatchNormalization\n",
    "from tensorflow.keras.utils import to_categorical\n",
    "from tensorflow.keras.applications import MobileNetV2\n",
    "from tensorflow.keras.preprocessing import image as tf_image\n",
    "from tensorflow.keras.applications.mobilenet_v2 import preprocess_input\n",
    "from tensorflow.keras.optimizers import Adam\n",
    "from tensorflow.keras.callbacks import EarlyStopping, ReduceLROnPlateau, ModelCheckpoint\n",
    "from transformers import AutoTokenizer, AutoModel\n",
    "from sklearn.preprocessing import LabelEncoder, StandardScaler\n",
    "from sklearn.metrics import classification_report, confusion_matrix\n",
    "from sklearn.model_selection import train_test_split\n",
    "import joblib\n",
    "import gc"
   ],
   "id": "d0dddfaa71795caf",
   "outputs": [
    {
     "name": "stderr",
     "output_type": "stream",
     "text": [
      "/Users/vince_carter420/Documents/RiceSafe/lib/python3.10/site-packages/tqdm/auto.py:21: TqdmWarning: IProgress not found. Please update jupyter and ipywidgets. See https://ipywidgets.readthedocs.io/en/stable/user_install.html\n",
      "  from .autonotebook import tqdm as notebook_tqdm\n"
     ]
    }
   ],
   "execution_count": 3
  },
  {
   "metadata": {
    "ExecuteTime": {
     "end_time": "2025-05-15T13:34:14.975721Z",
     "start_time": "2025-05-15T13:34:14.965933Z"
    }
   },
   "cell_type": "code",
   "source": [
    "# --- SETTINGS ---\n",
    "DEVICE = torch.device('cuda' if torch.cuda.is_available() else 'cpu')\n",
    "TRAIN_IMG_DIR = 'data/train_image/'\n",
    "TEST_IMG_DIR = 'data/test_image/'\n",
    "TRAIN_TEXT_DIR = 'data/train_text/'\n",
    "TEST_TEXT_DIR = 'data/test_text/'\n",
    "SAVE_MODEL_PATH = 'RiceSafeModel.keras'\n",
    "LABEL_ENCODER_PATH = 'label_encoder.pkl'\n",
    "SCALER_PATH = 'scaler.pkl'"
   ],
   "id": "9182374ca6bc08be",
   "outputs": [],
   "execution_count": 4
  },
  {
   "metadata": {
    "ExecuteTime": {
     "end_time": "2025-05-15T13:34:15.009979Z",
     "start_time": "2025-05-15T13:34:15.005335Z"
    }
   },
   "cell_type": "code",
   "source": "DISEASE_CLASSES = ['ปกติ', 'โรคขอบใบแห้ง', 'โรคใบขีดโปร่งแสง', 'โรคใบจุดสีน้ำตาล', 'โรคไหม้']",
   "id": "3dd3500e00d9c506",
   "outputs": [],
   "execution_count": 5
  },
  {
   "metadata": {
    "ExecuteTime": {
     "end_time": "2025-05-15T13:34:15.117327Z",
     "start_time": "2025-05-15T13:34:15.112938Z"
    }
   },
   "cell_type": "code",
   "source": [
    "# --- IMAGE PROCESSING ---\n",
    "def load_image(img_path):\n",
    "    try:\n",
    "        img = tf_image.load_img(img_path, target_size=(224, 224))\n",
    "        img_array = tf_image.img_to_array(img)\n",
    "        img_array = np.expand_dims(img_array, axis=0)  # Shape: (1, 224, 224, 3)\n",
    "        return preprocess_input(img_array)\n",
    "    except Exception as e:\n",
    "        print(f\"[ERROR] Failed to load {img_path}: {e}\")\n",
    "        return None"
   ],
   "id": "4728680032a7da79",
   "outputs": [],
   "execution_count": 6
  },
  {
   "metadata": {
    "ExecuteTime": {
     "end_time": "2025-05-15T13:34:23.595351Z",
     "start_time": "2025-05-15T13:34:15.195479Z"
    }
   },
   "cell_type": "code",
   "source": [
    "# --- TEXT EMBEDDING ---\n",
    "tokenizer = AutoTokenizer.from_pretrained(\"BAAI/bge-m3\")\n",
    "text_model = AutoModel.from_pretrained(\"BAAI/bge-m3\").to(DEVICE).eval()\n",
    "\n",
    "@torch.no_grad()\n",
    "def embed_text(text):\n",
    "    inputs = tokenizer(text, return_tensors=\"pt\", truncation=True, padding=True).to(DEVICE)\n",
    "    outputs = text_model(**inputs)\n",
    "    return outputs.last_hidden_state.mean(dim=1).cpu().numpy()"
   ],
   "id": "99027acb8b75271",
   "outputs": [],
   "execution_count": 7
  },
  {
   "metadata": {
    "ExecuteTime": {
     "end_time": "2025-05-15T13:34:24.815867Z",
     "start_time": "2025-05-15T13:34:24.277517Z"
    }
   },
   "cell_type": "code",
   "source": [
    "# --- IMAGE FEATURE EXTRACTOR ---\n",
    "mobilenet = MobileNetV2(weights='imagenet', include_top=False, pooling='avg')\n",
    "mobilenet.trainable = False\n",
    "\n",
    "def extract_img_feature(img_array):\n",
    "    if isinstance(img_array, list):\n",
    "        img_array = np.vstack(img_array)\n",
    "    features = mobilenet.predict(img_array)\n",
    "    return features"
   ],
   "id": "43556c94d669073d",
   "outputs": [
    {
     "name": "stderr",
     "output_type": "stream",
     "text": [
      "/var/folders/dq/b3nl28f51bsblfk_lyn94j240000gn/T/ipykernel_17471/503381850.py:2: UserWarning: `input_shape` is undefined or non-square, or `rows` is not in [96, 128, 160, 192, 224]. Weights for input shape (224, 224) will be loaded as the default.\n",
      "  mobilenet = MobileNetV2(weights='imagenet', include_top=False, pooling='avg')\n"
     ]
    }
   ],
   "execution_count": 8
  },
  {
   "metadata": {
    "ExecuteTime": {
     "end_time": "2025-05-15T13:34:24.890701Z",
     "start_time": "2025-05-15T13:34:24.874516Z"
    }
   },
   "cell_type": "code",
   "source": [
    "# --- MAIN PAIRING FUNCTION ---\n",
    "def pair_images_and_texts(batch_size=32):\n",
    "    paired_data = []\n",
    "\n",
    "    for disease_class in os.listdir(TRAIN_IMG_DIR):\n",
    "        img_folder = os.path.join(TRAIN_IMG_DIR, disease_class)\n",
    "        text_file = os.path.join(TRAIN_TEXT_DIR, f\"{disease_class}.csv\")\n",
    "\n",
    "        if not os.path.isdir(img_folder) or not os.path.isfile(text_file):\n",
    "            print(f\"[SKIP] {disease_class}: Folder or CSV not found.\")\n",
    "            continue\n",
    "\n",
    "        image_files = sorted([\n",
    "            f for f in os.listdir(img_folder)\n",
    "            if f.lower().endswith(('.jpg', '.jpeg', '.png'))\n",
    "        ])\n",
    "        df_text = pd.read_csv(text_file)\n",
    "        text_lines = df_text.iloc[:, 0].tolist()\n",
    "\n",
    "        if len(image_files) != len(text_lines):\n",
    "            print(f\"[WARNING] Mismatch in {disease_class}: {len(image_files)} images vs {len(text_lines)} texts\")\n",
    "            continue\n",
    "\n",
    "        for i in range(0, len(image_files), batch_size):\n",
    "            batch_imgs = []\n",
    "            batch_texts = []\n",
    "\n",
    "            for img_name, text in zip(image_files[i:i+batch_size], text_lines[i:i+batch_size]):\n",
    "                img_path = os.path.join(img_folder, img_name)\n",
    "                img_array = load_image(img_path)\n",
    "                if img_array is not None:\n",
    "                    batch_imgs.append(img_array)\n",
    "                    batch_texts.append(text)\n",
    "\n",
    "            if batch_imgs and batch_texts:\n",
    "                img_feats = extract_img_feature(np.vstack(batch_imgs))\n",
    "                text_feats = embed_text(batch_texts)\n",
    "                paired_data.extend([\n",
    "                    (np.concatenate((img_feat, text_feat)), disease_class)\n",
    "                    for img_feat, text_feat in zip(img_feats, text_feats)\n",
    "                ])\n",
    "\n",
    "\n",
    "            gc.collect()\n",
    "\n",
    "    return paired_data"
   ],
   "id": "7ad063ae22117ba",
   "outputs": [],
   "execution_count": 9
  },
  {
   "metadata": {
    "ExecuteTime": {
     "end_time": "2025-05-15T13:39:23.222845Z",
     "start_time": "2025-05-15T13:34:24.948406Z"
    }
   },
   "cell_type": "code",
   "source": [
    "# --- FINALIZE TRAINING FEATURES ---\n",
    "# print(\"[*] Pairing images and texts...\")\n",
    "paired_data = pair_images_and_texts(batch_size=32)\n",
    "# print(f\"[DONE] Paired {len(paired_data)} image-text entries.\")"
   ],
   "id": "dcada607e50a936b",
   "outputs": [
    {
     "name": "stdout",
     "output_type": "stream",
     "text": [
      "\u001B[1m1/1\u001B[0m \u001B[32m━━━━━━━━━━━━━━━━━━━━\u001B[0m\u001B[37m\u001B[0m \u001B[1m1s\u001B[0m 1s/step\n",
      "\u001B[1m1/1\u001B[0m \u001B[32m━━━━━━━━━━━━━━━━━━━━\u001B[0m\u001B[37m\u001B[0m \u001B[1m1s\u001B[0m 630ms/step\n",
      "\u001B[1m1/1\u001B[0m \u001B[32m━━━━━━━━━━━━━━━━━━━━\u001B[0m\u001B[37m\u001B[0m \u001B[1m1s\u001B[0m 568ms/step\n",
      "\u001B[1m1/1\u001B[0m \u001B[32m━━━━━━━━━━━━━━━━━━━━\u001B[0m\u001B[37m\u001B[0m \u001B[1m2s\u001B[0m 2s/step\n",
      "\u001B[1m1/1\u001B[0m \u001B[32m━━━━━━━━━━━━━━━━━━━━\u001B[0m\u001B[37m\u001B[0m \u001B[1m1s\u001B[0m 584ms/step\n",
      "\u001B[1m1/1\u001B[0m \u001B[32m━━━━━━━━━━━━━━━━━━━━\u001B[0m\u001B[37m\u001B[0m \u001B[1m1s\u001B[0m 935ms/step\n",
      "\u001B[1m1/1\u001B[0m \u001B[32m━━━━━━━━━━━━━━━━━━━━\u001B[0m\u001B[37m\u001B[0m \u001B[1m1s\u001B[0m 663ms/step\n",
      "\u001B[1m1/1\u001B[0m \u001B[32m━━━━━━━━━━━━━━━━━━━━\u001B[0m\u001B[37m\u001B[0m \u001B[1m1s\u001B[0m 1s/step\n",
      "[SKIP] .DS_Store: Folder or CSV not found.\n",
      "\u001B[1m1/1\u001B[0m \u001B[32m━━━━━━━━━━━━━━━━━━━━\u001B[0m\u001B[37m\u001B[0m \u001B[1m1s\u001B[0m 648ms/step\n",
      "\u001B[1m1/1\u001B[0m \u001B[32m━━━━━━━━━━━━━━━━━━━━\u001B[0m\u001B[37m\u001B[0m \u001B[1m1s\u001B[0m 516ms/step\n",
      "\u001B[1m1/1\u001B[0m \u001B[32m━━━━━━━━━━━━━━━━━━━━\u001B[0m\u001B[37m\u001B[0m \u001B[1m1s\u001B[0m 1s/step\n",
      "\u001B[1m1/1\u001B[0m \u001B[32m━━━━━━━━━━━━━━━━━━━━\u001B[0m\u001B[37m\u001B[0m \u001B[1m1s\u001B[0m 1s/step\n",
      "\u001B[1m1/1\u001B[0m \u001B[32m━━━━━━━━━━━━━━━━━━━━\u001B[0m\u001B[37m\u001B[0m \u001B[1m1s\u001B[0m 957ms/step\n",
      "\u001B[1m1/1\u001B[0m \u001B[32m━━━━━━━━━━━━━━━━━━━━\u001B[0m\u001B[37m\u001B[0m \u001B[1m1s\u001B[0m 974ms/step\n",
      "\u001B[1m1/1\u001B[0m \u001B[32m━━━━━━━━━━━━━━━━━━━━\u001B[0m\u001B[37m\u001B[0m \u001B[1m2s\u001B[0m 2s/step\n",
      "\u001B[1m1/1\u001B[0m \u001B[32m━━━━━━━━━━━━━━━━━━━━\u001B[0m\u001B[37m\u001B[0m \u001B[1m1s\u001B[0m 933ms/step\n",
      "\u001B[1m1/1\u001B[0m \u001B[32m━━━━━━━━━━━━━━━━━━━━\u001B[0m\u001B[37m\u001B[0m \u001B[1m1s\u001B[0m 1s/step   \n",
      "\u001B[1m1/1\u001B[0m \u001B[32m━━━━━━━━━━━━━━━━━━━━\u001B[0m\u001B[37m\u001B[0m \u001B[1m1s\u001B[0m 831ms/step\n",
      "\u001B[1m1/1\u001B[0m \u001B[32m━━━━━━━━━━━━━━━━━━━━\u001B[0m\u001B[37m\u001B[0m \u001B[1m1s\u001B[0m 635ms/step\n",
      "\u001B[1m1/1\u001B[0m \u001B[32m━━━━━━━━━━━━━━━━━━━━\u001B[0m\u001B[37m\u001B[0m \u001B[1m1s\u001B[0m 589ms/step\n",
      "\u001B[1m1/1\u001B[0m \u001B[32m━━━━━━━━━━━━━━━━━━━━\u001B[0m\u001B[37m\u001B[0m \u001B[1m1s\u001B[0m 553ms/step\n",
      "\u001B[1m1/1\u001B[0m \u001B[32m━━━━━━━━━━━━━━━━━━━━\u001B[0m\u001B[37m\u001B[0m \u001B[1m1s\u001B[0m 795ms/step\n",
      "\u001B[1m1/1\u001B[0m \u001B[32m━━━━━━━━━━━━━━━━━━━━\u001B[0m\u001B[37m\u001B[0m \u001B[1m0s\u001B[0m 495ms/step\n",
      "\u001B[1m1/1\u001B[0m \u001B[32m━━━━━━━━━━━━━━━━━━━━\u001B[0m\u001B[37m\u001B[0m \u001B[1m1s\u001B[0m 845ms/step\n",
      "\u001B[1m1/1\u001B[0m \u001B[32m━━━━━━━━━━━━━━━━━━━━\u001B[0m\u001B[37m\u001B[0m \u001B[1m1s\u001B[0m 639ms/step\n",
      "\u001B[1m1/1\u001B[0m \u001B[32m━━━━━━━━━━━━━━━━━━━━\u001B[0m\u001B[37m\u001B[0m \u001B[1m1s\u001B[0m 893ms/step\n",
      "\u001B[1m1/1\u001B[0m \u001B[32m━━━━━━━━━━━━━━━━━━━━\u001B[0m\u001B[37m\u001B[0m \u001B[1m1s\u001B[0m 951ms/step\n",
      "\u001B[1m1/1\u001B[0m \u001B[32m━━━━━━━━━━━━━━━━━━━━\u001B[0m\u001B[37m\u001B[0m \u001B[1m0s\u001B[0m 498ms/step\n",
      "\u001B[1m1/1\u001B[0m \u001B[32m━━━━━━━━━━━━━━━━━━━━\u001B[0m\u001B[37m\u001B[0m \u001B[1m1s\u001B[0m 1s/step   \n",
      "\u001B[1m1/1\u001B[0m \u001B[32m━━━━━━━━━━━━━━━━━━━━\u001B[0m\u001B[37m\u001B[0m \u001B[1m0s\u001B[0m 497ms/step\n",
      "\u001B[1m1/1\u001B[0m \u001B[32m━━━━━━━━━━━━━━━━━━━━\u001B[0m\u001B[37m\u001B[0m \u001B[1m1s\u001B[0m 589ms/step\n",
      "\u001B[1m1/1\u001B[0m \u001B[32m━━━━━━━━━━━━━━━━━━━━\u001B[0m\u001B[37m\u001B[0m \u001B[1m1s\u001B[0m 597ms/step\n",
      "\u001B[1m1/1\u001B[0m \u001B[32m━━━━━━━━━━━━━━━━━━━━\u001B[0m\u001B[37m\u001B[0m \u001B[1m1s\u001B[0m 764ms/step\n",
      "\u001B[1m1/1\u001B[0m \u001B[32m━━━━━━━━━━━━━━━━━━━━\u001B[0m\u001B[37m\u001B[0m \u001B[1m1s\u001B[0m 746ms/step\n",
      "\u001B[1m1/1\u001B[0m \u001B[32m━━━━━━━━━━━━━━━━━━━━\u001B[0m\u001B[37m\u001B[0m \u001B[1m1s\u001B[0m 616ms/step\n",
      "\u001B[1m1/1\u001B[0m \u001B[32m━━━━━━━━━━━━━━━━━━━━\u001B[0m\u001B[37m\u001B[0m \u001B[1m1s\u001B[0m 656ms/step\n",
      "\u001B[1m1/1\u001B[0m \u001B[32m━━━━━━━━━━━━━━━━━━━━\u001B[0m\u001B[37m\u001B[0m \u001B[1m1s\u001B[0m 672ms/step\n",
      "\u001B[1m1/1\u001B[0m \u001B[32m━━━━━━━━━━━━━━━━━━━━\u001B[0m\u001B[37m\u001B[0m \u001B[1m1s\u001B[0m 777ms/step\n",
      "\u001B[1m1/1\u001B[0m \u001B[32m━━━━━━━━━━━━━━━━━━━━\u001B[0m\u001B[37m\u001B[0m \u001B[1m1s\u001B[0m 787ms/step\n",
      "\u001B[1m1/1\u001B[0m \u001B[32m━━━━━━━━━━━━━━━━━━━━\u001B[0m\u001B[37m\u001B[0m \u001B[1m0s\u001B[0m 460ms/step\n"
     ]
    }
   ],
   "execution_count": 10
  },
  {
   "metadata": {
    "ExecuteTime": {
     "end_time": "2025-05-15T13:39:23.522052Z",
     "start_time": "2025-05-15T13:39:23.491270Z"
    }
   },
   "cell_type": "code",
   "source": [
    "if not paired_data:\n",
    "    print(\"[!] No training data found.\")\n",
    "    exit(1)\n",
    "\n",
    "for i, entry in enumerate(paired_data):\n",
    "    if not isinstance(entry, tuple) or len(entry) != 2:\n",
    "        print(f\"[!] Invalid entry at index {i}: {entry}\")\n",
    "\n",
    "# --- SPLIT FEATURES AND LABELS ---\n",
    "features, labels = zip(*paired_data)\n",
    "X = np.array(features)\n",
    "y = np.array(labels)\n",
    "\n",
    "# Split into train and validation sets\n",
    "X_train, X_val, y_train, y_val = train_test_split(\n",
    "    X, y, test_size=0.3, random_state=42, stratify=y\n",
    ")"
   ],
   "id": "3a0bbd0b2dc54422",
   "outputs": [],
   "execution_count": 11
  },
  {
   "metadata": {
    "ExecuteTime": {
     "end_time": "2025-05-15T13:39:23.593538Z",
     "start_time": "2025-05-15T13:39:23.568701Z"
    }
   },
   "cell_type": "code",
   "source": [
    "# --- FEATURE SCALING ---\n",
    "scaler = StandardScaler()\n",
    "X_train_scaled = scaler.fit_transform(X_train)\n",
    "X_val_scaled = scaler.transform(X_val)\n",
    "joblib.dump(scaler, SCALER_PATH)\n",
    "\n",
    "# --- LABELS ENCODING ---\n",
    "le = LabelEncoder()\n",
    "y_train_encoded = le.fit_transform(y_train)\n",
    "y_val_encoded = le.transform(y_val)\n",
    "y_train_categorical = to_categorical(y_train_encoded)\n",
    "y_val_categorical = to_categorical(y_val_encoded)\n",
    "joblib.dump(le, LABEL_ENCODER_PATH)"
   ],
   "id": "c0b2972707eca75e",
   "outputs": [
    {
     "data": {
      "text/plain": [
       "['label_encoder.pkl']"
      ]
     },
     "execution_count": 12,
     "metadata": {},
     "output_type": "execute_result"
    }
   ],
   "execution_count": 12
  },
  {
   "metadata": {
    "ExecuteTime": {
     "end_time": "2025-05-15T13:39:23.671313Z",
     "start_time": "2025-05-15T13:39:23.629157Z"
    }
   },
   "cell_type": "code",
   "source": [
    "# --- DEFINE NEURAL NETWORK ---\n",
    "model = Sequential([\n",
    "    Input(shape=(X_train_scaled.shape[1],)),\n",
    "    Dense(256, activation='relu'),\n",
    "    BatchNormalization(),\n",
    "    Dropout(0.3),\n",
    "    Dense(128, activation='relu'),\n",
    "    BatchNormalization(),\n",
    "    Dropout(0.3),\n",
    "    Dense(len(DISEASE_CLASSES), activation='softmax')\n",
    "])\n",
    "\n",
    "optimizer = Adam(learning_rate=0.0001)\n",
    "model.compile(optimizer=optimizer, loss='categorical_crossentropy', metrics=['accuracy'])\n",
    "\n",
    "# Callbacks\n",
    "callbacks = [\n",
    "    EarlyStopping(monitor='val_loss', patience=10, restore_best_weights=True),\n",
    "    ReduceLROnPlateau(monitor='val_loss', factor=0.2, patience=5, min_lr=1e-6),\n",
    "    ModelCheckpoint(SAVE_MODEL_PATH, save_best_only=True, monitor='val_accuracy')\n",
    "]"
   ],
   "id": "2087c10f5ddf4d0a",
   "outputs": [],
   "execution_count": 13
  },
  {
   "metadata": {
    "ExecuteTime": {
     "end_time": "2025-05-15T13:39:32.884571Z",
     "start_time": "2025-05-15T13:39:23.702086Z"
    }
   },
   "cell_type": "code",
   "source": [
    "# --- TRAIN MODEL ---\n",
    "# Training\n",
    "history = model.fit(\n",
    "    X_train_scaled, y_train_categorical,\n",
    "    validation_data=(X_val_scaled, y_val_categorical),\n",
    "    epochs=100,\n",
    "    batch_size=32,\n",
    "    callbacks=callbacks,\n",
    "    verbose=1\n",
    ")\n",
    "# --- SAVE MODEL & ENCODER ---\n",
    "model.save(SAVE_MODEL_PATH)\n",
    "joblib.dump(le, LABEL_ENCODER_PATH)"
   ],
   "id": "6743bbfbd17f4eb1",
   "outputs": [
    {
     "name": "stdout",
     "output_type": "stream",
     "text": [
      "Epoch 1/100\n",
      "\u001B[1m28/28\u001B[0m \u001B[32m━━━━━━━━━━━━━━━━━━━━\u001B[0m\u001B[37m\u001B[0m \u001B[1m1s\u001B[0m 13ms/step - accuracy: 0.3111 - loss: 1.9916 - val_accuracy: 0.7147 - val_loss: 0.7614 - learning_rate: 1.0000e-04\n",
      "Epoch 2/100\n",
      "\u001B[1m28/28\u001B[0m \u001B[32m━━━━━━━━━━━━━━━━━━━━\u001B[0m\u001B[37m\u001B[0m \u001B[1m0s\u001B[0m 8ms/step - accuracy: 0.7495 - loss: 0.7312 - val_accuracy: 0.8853 - val_loss: 0.4208 - learning_rate: 1.0000e-04\n",
      "Epoch 3/100\n",
      "\u001B[1m28/28\u001B[0m \u001B[32m━━━━━━━━━━━━━━━━━━━━\u001B[0m\u001B[37m\u001B[0m \u001B[1m0s\u001B[0m 8ms/step - accuracy: 0.8788 - loss: 0.3963 - val_accuracy: 0.9493 - val_loss: 0.2748 - learning_rate: 1.0000e-04\n",
      "Epoch 4/100\n",
      "\u001B[1m28/28\u001B[0m \u001B[32m━━━━━━━━━━━━━━━━━━━━\u001B[0m\u001B[37m\u001B[0m \u001B[1m0s\u001B[0m 8ms/step - accuracy: 0.9224 - loss: 0.2535 - val_accuracy: 0.9627 - val_loss: 0.1993 - learning_rate: 1.0000e-04\n",
      "Epoch 5/100\n",
      "\u001B[1m28/28\u001B[0m \u001B[32m━━━━━━━━━━━━━━━━━━━━\u001B[0m\u001B[37m\u001B[0m \u001B[1m0s\u001B[0m 9ms/step - accuracy: 0.9572 - loss: 0.2016 - val_accuracy: 0.9680 - val_loss: 0.1562 - learning_rate: 1.0000e-04\n",
      "Epoch 6/100\n",
      "\u001B[1m28/28\u001B[0m \u001B[32m━━━━━━━━━━━━━━━━━━━━\u001B[0m\u001B[37m\u001B[0m \u001B[1m0s\u001B[0m 10ms/step - accuracy: 0.9741 - loss: 0.1539 - val_accuracy: 0.9787 - val_loss: 0.1269 - learning_rate: 1.0000e-04\n",
      "Epoch 7/100\n",
      "\u001B[1m28/28\u001B[0m \u001B[32m━━━━━━━━━━━━━━━━━━━━\u001B[0m\u001B[37m\u001B[0m \u001B[1m0s\u001B[0m 8ms/step - accuracy: 0.9809 - loss: 0.1249 - val_accuracy: 0.9813 - val_loss: 0.1082 - learning_rate: 1.0000e-04\n",
      "Epoch 8/100\n",
      "\u001B[1m28/28\u001B[0m \u001B[32m━━━━━━━━━━━━━━━━━━━━\u001B[0m\u001B[37m\u001B[0m \u001B[1m0s\u001B[0m 10ms/step - accuracy: 0.9778 - loss: 0.1022 - val_accuracy: 0.9840 - val_loss: 0.0982 - learning_rate: 1.0000e-04\n",
      "Epoch 9/100\n",
      "\u001B[1m28/28\u001B[0m \u001B[32m━━━━━━━━━━━━━━━━━━━━\u001B[0m\u001B[37m\u001B[0m \u001B[1m0s\u001B[0m 5ms/step - accuracy: 0.9819 - loss: 0.0905 - val_accuracy: 0.9840 - val_loss: 0.0882 - learning_rate: 1.0000e-04\n",
      "Epoch 10/100\n",
      "\u001B[1m28/28\u001B[0m \u001B[32m━━━━━━━━━━━━━━━━━━━━\u001B[0m\u001B[37m\u001B[0m \u001B[1m0s\u001B[0m 4ms/step - accuracy: 0.9819 - loss: 0.0941 - val_accuracy: 0.9867 - val_loss: 0.0779 - learning_rate: 1.0000e-04\n",
      "Epoch 11/100\n",
      "\u001B[1m28/28\u001B[0m \u001B[32m━━━━━━━━━━━━━━━━━━━━\u001B[0m\u001B[37m\u001B[0m \u001B[1m0s\u001B[0m 4ms/step - accuracy: 0.9915 - loss: 0.0595 - val_accuracy: 0.9867 - val_loss: 0.0706 - learning_rate: 1.0000e-04\n",
      "Epoch 12/100\n",
      "\u001B[1m28/28\u001B[0m \u001B[32m━━━━━━━━━━━━━━━━━━━━\u001B[0m\u001B[37m\u001B[0m \u001B[1m0s\u001B[0m 4ms/step - accuracy: 0.9903 - loss: 0.0590 - val_accuracy: 0.9920 - val_loss: 0.0647 - learning_rate: 1.0000e-04\n",
      "Epoch 13/100\n",
      "\u001B[1m28/28\u001B[0m \u001B[32m━━━━━━━━━━━━━━━━━━━━\u001B[0m\u001B[37m\u001B[0m \u001B[1m0s\u001B[0m 4ms/step - accuracy: 0.9955 - loss: 0.0523 - val_accuracy: 0.9920 - val_loss: 0.0582 - learning_rate: 1.0000e-04\n",
      "Epoch 14/100\n",
      "\u001B[1m28/28\u001B[0m \u001B[32m━━━━━━━━━━━━━━━━━━━━\u001B[0m\u001B[37m\u001B[0m \u001B[1m0s\u001B[0m 4ms/step - accuracy: 0.9967 - loss: 0.0424 - val_accuracy: 0.9920 - val_loss: 0.0548 - learning_rate: 1.0000e-04\n",
      "Epoch 15/100\n",
      "\u001B[1m28/28\u001B[0m \u001B[32m━━━━━━━━━━━━━━━━━━━━\u001B[0m\u001B[37m\u001B[0m \u001B[1m0s\u001B[0m 4ms/step - accuracy: 0.9980 - loss: 0.0421 - val_accuracy: 0.9920 - val_loss: 0.0518 - learning_rate: 1.0000e-04\n",
      "Epoch 16/100\n",
      "\u001B[1m28/28\u001B[0m \u001B[32m━━━━━━━━━━━━━━━━━━━━\u001B[0m\u001B[37m\u001B[0m \u001B[1m0s\u001B[0m 4ms/step - accuracy: 0.9992 - loss: 0.0380 - val_accuracy: 0.9920 - val_loss: 0.0495 - learning_rate: 1.0000e-04\n",
      "Epoch 17/100\n",
      "\u001B[1m28/28\u001B[0m \u001B[32m━━━━━━━━━━━━━━━━━━━━\u001B[0m\u001B[37m\u001B[0m \u001B[1m0s\u001B[0m 4ms/step - accuracy: 0.9974 - loss: 0.0356 - val_accuracy: 0.9920 - val_loss: 0.0457 - learning_rate: 1.0000e-04\n",
      "Epoch 18/100\n",
      "\u001B[1m28/28\u001B[0m \u001B[32m━━━━━━━━━━━━━━━━━━━━\u001B[0m\u001B[37m\u001B[0m \u001B[1m0s\u001B[0m 4ms/step - accuracy: 0.9982 - loss: 0.0278 - val_accuracy: 0.9920 - val_loss: 0.0446 - learning_rate: 1.0000e-04\n",
      "Epoch 19/100\n",
      "\u001B[1m28/28\u001B[0m \u001B[32m━━━━━━━━━━━━━━━━━━━━\u001B[0m\u001B[37m\u001B[0m \u001B[1m0s\u001B[0m 4ms/step - accuracy: 0.9982 - loss: 0.0275 - val_accuracy: 0.9920 - val_loss: 0.0426 - learning_rate: 1.0000e-04\n",
      "Epoch 20/100\n",
      "\u001B[1m28/28\u001B[0m \u001B[32m━━━━━━━━━━━━━━━━━━━━\u001B[0m\u001B[37m\u001B[0m \u001B[1m0s\u001B[0m 4ms/step - accuracy: 0.9945 - loss: 0.0329 - val_accuracy: 0.9947 - val_loss: 0.0416 - learning_rate: 1.0000e-04\n",
      "Epoch 21/100\n",
      "\u001B[1m28/28\u001B[0m \u001B[32m━━━━━━━━━━━━━━━━━━━━\u001B[0m\u001B[37m\u001B[0m \u001B[1m0s\u001B[0m 4ms/step - accuracy: 0.9967 - loss: 0.0308 - val_accuracy: 0.9947 - val_loss: 0.0401 - learning_rate: 1.0000e-04\n",
      "Epoch 22/100\n",
      "\u001B[1m28/28\u001B[0m \u001B[32m━━━━━━━━━━━━━━━━━━━━\u001B[0m\u001B[37m\u001B[0m \u001B[1m0s\u001B[0m 4ms/step - accuracy: 0.9999 - loss: 0.0251 - val_accuracy: 0.9947 - val_loss: 0.0384 - learning_rate: 1.0000e-04\n",
      "Epoch 23/100\n",
      "\u001B[1m28/28\u001B[0m \u001B[32m━━━━━━━━━━━━━━━━━━━━\u001B[0m\u001B[37m\u001B[0m \u001B[1m0s\u001B[0m 4ms/step - accuracy: 0.9970 - loss: 0.0251 - val_accuracy: 0.9947 - val_loss: 0.0353 - learning_rate: 1.0000e-04\n",
      "Epoch 24/100\n",
      "\u001B[1m28/28\u001B[0m \u001B[32m━━━━━━━━━━━━━━━━━━━━\u001B[0m\u001B[37m\u001B[0m \u001B[1m0s\u001B[0m 4ms/step - accuracy: 0.9985 - loss: 0.0189 - val_accuracy: 0.9947 - val_loss: 0.0335 - learning_rate: 1.0000e-04\n",
      "Epoch 25/100\n",
      "\u001B[1m28/28\u001B[0m \u001B[32m━━━━━━━━━━━━━━━━━━━━\u001B[0m\u001B[37m\u001B[0m \u001B[1m0s\u001B[0m 4ms/step - accuracy: 0.9945 - loss: 0.0229 - val_accuracy: 0.9947 - val_loss: 0.0326 - learning_rate: 1.0000e-04\n",
      "Epoch 26/100\n",
      "\u001B[1m28/28\u001B[0m \u001B[32m━━━━━━━━━━━━━━━━━━━━\u001B[0m\u001B[37m\u001B[0m \u001B[1m0s\u001B[0m 4ms/step - accuracy: 1.0000 - loss: 0.0228 - val_accuracy: 0.9947 - val_loss: 0.0307 - learning_rate: 1.0000e-04\n",
      "Epoch 27/100\n",
      "\u001B[1m28/28\u001B[0m \u001B[32m━━━━━━━━━━━━━━━━━━━━\u001B[0m\u001B[37m\u001B[0m \u001B[1m0s\u001B[0m 4ms/step - accuracy: 1.0000 - loss: 0.0161 - val_accuracy: 0.9947 - val_loss: 0.0297 - learning_rate: 1.0000e-04\n",
      "Epoch 28/100\n",
      "\u001B[1m28/28\u001B[0m \u001B[32m━━━━━━━━━━━━━━━━━━━━\u001B[0m\u001B[37m\u001B[0m \u001B[1m0s\u001B[0m 4ms/step - accuracy: 1.0000 - loss: 0.0225 - val_accuracy: 0.9947 - val_loss: 0.0292 - learning_rate: 1.0000e-04\n",
      "Epoch 29/100\n",
      "\u001B[1m28/28\u001B[0m \u001B[32m━━━━━━━━━━━━━━━━━━━━\u001B[0m\u001B[37m\u001B[0m \u001B[1m0s\u001B[0m 4ms/step - accuracy: 0.9955 - loss: 0.0258 - val_accuracy: 0.9947 - val_loss: 0.0280 - learning_rate: 1.0000e-04\n",
      "Epoch 30/100\n",
      "\u001B[1m28/28\u001B[0m \u001B[32m━━━━━━━━━━━━━━━━━━━━\u001B[0m\u001B[37m\u001B[0m \u001B[1m0s\u001B[0m 4ms/step - accuracy: 0.9993 - loss: 0.0174 - val_accuracy: 0.9947 - val_loss: 0.0274 - learning_rate: 1.0000e-04\n",
      "Epoch 31/100\n",
      "\u001B[1m28/28\u001B[0m \u001B[32m━━━━━━━━━━━━━━━━━━━━\u001B[0m\u001B[37m\u001B[0m \u001B[1m0s\u001B[0m 4ms/step - accuracy: 0.9994 - loss: 0.0112 - val_accuracy: 0.9947 - val_loss: 0.0268 - learning_rate: 1.0000e-04\n",
      "Epoch 32/100\n",
      "\u001B[1m28/28\u001B[0m \u001B[32m━━━━━━━━━━━━━━━━━━━━\u001B[0m\u001B[37m\u001B[0m \u001B[1m0s\u001B[0m 4ms/step - accuracy: 0.9968 - loss: 0.0160 - val_accuracy: 0.9947 - val_loss: 0.0298 - learning_rate: 1.0000e-04\n",
      "Epoch 33/100\n",
      "\u001B[1m28/28\u001B[0m \u001B[32m━━━━━━━━━━━━━━━━━━━━\u001B[0m\u001B[37m\u001B[0m \u001B[1m0s\u001B[0m 4ms/step - accuracy: 1.0000 - loss: 0.0158 - val_accuracy: 0.9947 - val_loss: 0.0290 - learning_rate: 1.0000e-04\n",
      "Epoch 34/100\n",
      "\u001B[1m28/28\u001B[0m \u001B[32m━━━━━━━━━━━━━━━━━━━━\u001B[0m\u001B[37m\u001B[0m \u001B[1m0s\u001B[0m 4ms/step - accuracy: 1.0000 - loss: 0.0142 - val_accuracy: 0.9947 - val_loss: 0.0276 - learning_rate: 1.0000e-04\n",
      "Epoch 35/100\n",
      "\u001B[1m28/28\u001B[0m \u001B[32m━━━━━━━━━━━━━━━━━━━━\u001B[0m\u001B[37m\u001B[0m \u001B[1m0s\u001B[0m 4ms/step - accuracy: 0.9991 - loss: 0.0118 - val_accuracy: 0.9947 - val_loss: 0.0269 - learning_rate: 1.0000e-04\n",
      "Epoch 36/100\n",
      "\u001B[1m28/28\u001B[0m \u001B[32m━━━━━━━━━━━━━━━━━━━━\u001B[0m\u001B[37m\u001B[0m \u001B[1m0s\u001B[0m 4ms/step - accuracy: 1.0000 - loss: 0.0119 - val_accuracy: 0.9947 - val_loss: 0.0250 - learning_rate: 1.0000e-04\n",
      "Epoch 37/100\n",
      "\u001B[1m28/28\u001B[0m \u001B[32m━━━━━━━━━━━━━━━━━━━━\u001B[0m\u001B[37m\u001B[0m \u001B[1m0s\u001B[0m 4ms/step - accuracy: 1.0000 - loss: 0.0093 - val_accuracy: 0.9947 - val_loss: 0.0248 - learning_rate: 1.0000e-04\n",
      "Epoch 38/100\n",
      "\u001B[1m28/28\u001B[0m \u001B[32m━━━━━━━━━━━━━━━━━━━━\u001B[0m\u001B[37m\u001B[0m \u001B[1m0s\u001B[0m 4ms/step - accuracy: 1.0000 - loss: 0.0115 - val_accuracy: 0.9947 - val_loss: 0.0238 - learning_rate: 1.0000e-04\n",
      "Epoch 39/100\n",
      "\u001B[1m28/28\u001B[0m \u001B[32m━━━━━━━━━━━━━━━━━━━━\u001B[0m\u001B[37m\u001B[0m \u001B[1m0s\u001B[0m 4ms/step - accuracy: 1.0000 - loss: 0.0131 - val_accuracy: 0.9947 - val_loss: 0.0226 - learning_rate: 1.0000e-04\n",
      "Epoch 40/100\n",
      "\u001B[1m28/28\u001B[0m \u001B[32m━━━━━━━━━━━━━━━━━━━━\u001B[0m\u001B[37m\u001B[0m \u001B[1m0s\u001B[0m 4ms/step - accuracy: 0.9957 - loss: 0.0168 - val_accuracy: 0.9947 - val_loss: 0.0224 - learning_rate: 1.0000e-04\n",
      "Epoch 41/100\n",
      "\u001B[1m28/28\u001B[0m \u001B[32m━━━━━━━━━━━━━━━━━━━━\u001B[0m\u001B[37m\u001B[0m \u001B[1m0s\u001B[0m 4ms/step - accuracy: 1.0000 - loss: 0.0084 - val_accuracy: 0.9947 - val_loss: 0.0215 - learning_rate: 1.0000e-04\n",
      "Epoch 42/100\n",
      "\u001B[1m28/28\u001B[0m \u001B[32m━━━━━━━━━━━━━━━━━━━━\u001B[0m\u001B[37m\u001B[0m \u001B[1m0s\u001B[0m 4ms/step - accuracy: 0.9973 - loss: 0.0122 - val_accuracy: 0.9947 - val_loss: 0.0215 - learning_rate: 1.0000e-04\n",
      "Epoch 43/100\n",
      "\u001B[1m28/28\u001B[0m \u001B[32m━━━━━━━━━━━━━━━━━━━━\u001B[0m\u001B[37m\u001B[0m \u001B[1m0s\u001B[0m 4ms/step - accuracy: 1.0000 - loss: 0.0130 - val_accuracy: 0.9947 - val_loss: 0.0199 - learning_rate: 1.0000e-04\n",
      "Epoch 44/100\n",
      "\u001B[1m28/28\u001B[0m \u001B[32m━━━━━━━━━━━━━━━━━━━━\u001B[0m\u001B[37m\u001B[0m \u001B[1m0s\u001B[0m 4ms/step - accuracy: 0.9989 - loss: 0.0067 - val_accuracy: 0.9947 - val_loss: 0.0197 - learning_rate: 1.0000e-04\n",
      "Epoch 45/100\n",
      "\u001B[1m28/28\u001B[0m \u001B[32m━━━━━━━━━━━━━━━━━━━━\u001B[0m\u001B[37m\u001B[0m \u001B[1m0s\u001B[0m 4ms/step - accuracy: 1.0000 - loss: 0.0079 - val_accuracy: 0.9947 - val_loss: 0.0188 - learning_rate: 1.0000e-04\n",
      "Epoch 46/100\n",
      "\u001B[1m28/28\u001B[0m \u001B[32m━━━━━━━━━━━━━━━━━━━━\u001B[0m\u001B[37m\u001B[0m \u001B[1m0s\u001B[0m 4ms/step - accuracy: 1.0000 - loss: 0.0084 - val_accuracy: 0.9947 - val_loss: 0.0188 - learning_rate: 1.0000e-04\n",
      "Epoch 47/100\n",
      "\u001B[1m28/28\u001B[0m \u001B[32m━━━━━━━━━━━━━━━━━━━━\u001B[0m\u001B[37m\u001B[0m \u001B[1m0s\u001B[0m 4ms/step - accuracy: 1.0000 - loss: 0.0078 - val_accuracy: 0.9947 - val_loss: 0.0187 - learning_rate: 1.0000e-04\n",
      "Epoch 48/100\n",
      "\u001B[1m28/28\u001B[0m \u001B[32m━━━━━━━━━━━━━━━━━━━━\u001B[0m\u001B[37m\u001B[0m \u001B[1m0s\u001B[0m 4ms/step - accuracy: 0.9999 - loss: 0.0058 - val_accuracy: 0.9947 - val_loss: 0.0183 - learning_rate: 1.0000e-04\n",
      "Epoch 49/100\n",
      "\u001B[1m28/28\u001B[0m \u001B[32m━━━━━━━━━━━━━━━━━━━━\u001B[0m\u001B[37m\u001B[0m \u001B[1m0s\u001B[0m 4ms/step - accuracy: 1.0000 - loss: 0.0068 - val_accuracy: 0.9947 - val_loss: 0.0187 - learning_rate: 1.0000e-04\n",
      "Epoch 50/100\n",
      "\u001B[1m28/28\u001B[0m \u001B[32m━━━━━━━━━━━━━━━━━━━━\u001B[0m\u001B[37m\u001B[0m \u001B[1m0s\u001B[0m 4ms/step - accuracy: 1.0000 - loss: 0.0056 - val_accuracy: 0.9947 - val_loss: 0.0184 - learning_rate: 1.0000e-04\n",
      "Epoch 51/100\n",
      "\u001B[1m28/28\u001B[0m \u001B[32m━━━━━━━━━━━━━━━━━━━━\u001B[0m\u001B[37m\u001B[0m \u001B[1m0s\u001B[0m 4ms/step - accuracy: 1.0000 - loss: 0.0052 - val_accuracy: 0.9947 - val_loss: 0.0178 - learning_rate: 1.0000e-04\n",
      "Epoch 52/100\n",
      "\u001B[1m28/28\u001B[0m \u001B[32m━━━━━━━━━━━━━━━━━━━━\u001B[0m\u001B[37m\u001B[0m \u001B[1m0s\u001B[0m 4ms/step - accuracy: 1.0000 - loss: 0.0066 - val_accuracy: 0.9947 - val_loss: 0.0186 - learning_rate: 1.0000e-04\n",
      "Epoch 53/100\n",
      "\u001B[1m28/28\u001B[0m \u001B[32m━━━━━━━━━━━━━━━━━━━━\u001B[0m\u001B[37m\u001B[0m \u001B[1m0s\u001B[0m 4ms/step - accuracy: 1.0000 - loss: 0.0061 - val_accuracy: 0.9947 - val_loss: 0.0202 - learning_rate: 1.0000e-04\n",
      "Epoch 54/100\n",
      "\u001B[1m28/28\u001B[0m \u001B[32m━━━━━━━━━━━━━━━━━━━━\u001B[0m\u001B[37m\u001B[0m \u001B[1m0s\u001B[0m 4ms/step - accuracy: 1.0000 - loss: 0.0057 - val_accuracy: 0.9947 - val_loss: 0.0207 - learning_rate: 1.0000e-04\n",
      "Epoch 55/100\n",
      "\u001B[1m28/28\u001B[0m \u001B[32m━━━━━━━━━━━━━━━━━━━━\u001B[0m\u001B[37m\u001B[0m \u001B[1m0s\u001B[0m 4ms/step - accuracy: 1.0000 - loss: 0.0062 - val_accuracy: 0.9947 - val_loss: 0.0203 - learning_rate: 1.0000e-04\n",
      "Epoch 56/100\n",
      "\u001B[1m28/28\u001B[0m \u001B[32m━━━━━━━━━━━━━━━━━━━━\u001B[0m\u001B[37m\u001B[0m \u001B[1m0s\u001B[0m 4ms/step - accuracy: 1.0000 - loss: 0.0057 - val_accuracy: 0.9947 - val_loss: 0.0197 - learning_rate: 1.0000e-04\n",
      "Epoch 57/100\n",
      "\u001B[1m28/28\u001B[0m \u001B[32m━━━━━━━━━━━━━━━━━━━━\u001B[0m\u001B[37m\u001B[0m \u001B[1m0s\u001B[0m 4ms/step - accuracy: 0.9968 - loss: 0.0114 - val_accuracy: 0.9947 - val_loss: 0.0193 - learning_rate: 2.0000e-05\n",
      "Epoch 58/100\n",
      "\u001B[1m28/28\u001B[0m \u001B[32m━━━━━━━━━━━━━━━━━━━━\u001B[0m\u001B[37m\u001B[0m \u001B[1m0s\u001B[0m 4ms/step - accuracy: 1.0000 - loss: 0.0052 - val_accuracy: 0.9947 - val_loss: 0.0193 - learning_rate: 2.0000e-05\n",
      "Epoch 59/100\n",
      "\u001B[1m28/28\u001B[0m \u001B[32m━━━━━━━━━━━━━━━━━━━━\u001B[0m\u001B[37m\u001B[0m \u001B[1m0s\u001B[0m 5ms/step - accuracy: 1.0000 - loss: 0.0050 - val_accuracy: 0.9947 - val_loss: 0.0193 - learning_rate: 2.0000e-05\n",
      "Epoch 60/100\n",
      "\u001B[1m28/28\u001B[0m \u001B[32m━━━━━━━━━━━━━━━━━━━━\u001B[0m\u001B[37m\u001B[0m \u001B[1m0s\u001B[0m 4ms/step - accuracy: 0.9999 - loss: 0.0046 - val_accuracy: 0.9947 - val_loss: 0.0193 - learning_rate: 2.0000e-05\n",
      "Epoch 61/100\n",
      "\u001B[1m28/28\u001B[0m \u001B[32m━━━━━━━━━━━━━━━━━━━━\u001B[0m\u001B[37m\u001B[0m \u001B[1m0s\u001B[0m 4ms/step - accuracy: 1.0000 - loss: 0.0053 - val_accuracy: 0.9947 - val_loss: 0.0193 - learning_rate: 2.0000e-05\n"
     ]
    },
    {
     "data": {
      "text/plain": [
       "['label_encoder.pkl']"
      ]
     },
     "execution_count": 14,
     "metadata": {},
     "output_type": "execute_result"
    }
   ],
   "execution_count": 14
  },
  {
   "metadata": {
    "ExecuteTime": {
     "end_time": "2025-05-15T13:39:33.008938Z",
     "start_time": "2025-05-15T13:39:32.955404Z"
    }
   },
   "cell_type": "code",
   "source": [
    "val_loss, val_acc = model.evaluate(X_val_scaled, y_val_categorical, verbose=1)\n",
    "print(f\"Validation Accuracy: {val_acc:.4f}\")\n",
    "print(f\"Validation Loss: {val_loss:.4f}\")"
   ],
   "id": "9f6dca0ef0af4451",
   "outputs": [
    {
     "name": "stdout",
     "output_type": "stream",
     "text": [
      "\u001B[1m12/12\u001B[0m \u001B[32m━━━━━━━━━━━━━━━━━━━━\u001B[0m\u001B[37m\u001B[0m \u001B[1m0s\u001B[0m 2ms/step - accuracy: 0.9985 - loss: 0.0096\n",
      "Validation Accuracy: 0.9947\n",
      "Validation Loss: 0.0178\n"
     ]
    }
   ],
   "execution_count": 15
  },
  {
   "metadata": {
    "ExecuteTime": {
     "end_time": "2025-05-15T13:39:33.128670Z",
     "start_time": "2025-05-15T13:39:33.040308Z"
    }
   },
   "cell_type": "code",
   "source": [
    "val_predictions = model.predict(X_val_scaled)\n",
    "val_predicted_labels = np.argmax(val_predictions, axis=1)\n",
    "val_true_labels = np.argmax(y_val_categorical, axis=1)\n",
    "\n",
    "val_report = classification_report(val_true_labels, val_predicted_labels,\n",
    "                                   target_names=DISEASE_CLASSES)\n",
    "print(val_report)"
   ],
   "id": "5d759f553d83703d",
   "outputs": [
    {
     "name": "stdout",
     "output_type": "stream",
     "text": [
      "\u001B[1m12/12\u001B[0m \u001B[32m━━━━━━━━━━━━━━━━━━━━\u001B[0m\u001B[37m\u001B[0m \u001B[1m0s\u001B[0m 3ms/step \n",
      "                  precision    recall  f1-score   support\n",
      "\n",
      "            ปกติ       1.00      1.00      1.00        75\n",
      "    โรคขอบใบแห้ง       1.00      1.00      1.00        75\n",
      "โรคใบขีดโปร่งแสง       1.00      1.00      1.00        75\n",
      "โรคใบจุดสีน้ำตาล       1.00      0.97      0.99        75\n",
      "         โรคไหม้       0.97      1.00      0.99        75\n",
      "\n",
      "        accuracy                           0.99       375\n",
      "       macro avg       0.99      0.99      0.99       375\n",
      "    weighted avg       0.99      0.99      0.99       375\n",
      "\n"
     ]
    }
   ],
   "execution_count": 16
  },
  {
   "metadata": {
    "ExecuteTime": {
     "end_time": "2025-05-15T13:39:33.163418Z",
     "start_time": "2025-05-15T13:39:33.157777Z"
    }
   },
   "cell_type": "code",
   "source": [
    "# --- MAIN PAIRING FUNCTION ---\n",
    "def pair_test_images_and_texts(batch_size=32):\n",
    "    test_paired_data = []\n",
    "\n",
    "    for test_disease_class in os.listdir(TEST_IMG_DIR):\n",
    "        test_img_folder = os.path.join(TEST_IMG_DIR, test_disease_class)\n",
    "        test_text_file = os.path.join(TEST_TEXT_DIR, f\"{test_disease_class}.csv\")\n",
    "\n",
    "        if not os.path.isdir(test_img_folder) or not os.path.isfile(test_text_file):\n",
    "            print(f\"[SKIP] {test_disease_class}: Folder or CSV not found.\")\n",
    "            continue\n",
    "\n",
    "        test_image_files = sorted([\n",
    "            f for f in os.listdir(test_img_folder)\n",
    "            if f.lower().endswith(('.jpg', '.jpeg', '.png'))\n",
    "        ])\n",
    "        test_df_text = pd.read_csv(test_text_file)\n",
    "        test_text_lines = test_df_text.iloc[:, 0].tolist()\n",
    "\n",
    "        if len(test_image_files) != len(test_text_lines):\n",
    "            print(f\"[WARNING] Mismatch in {test_disease_class}: {len(test_image_files)} images vs {len(test_text_lines)} texts\")\n",
    "            continue\n",
    "\n",
    "        for i in range(0, len(test_image_files), batch_size):\n",
    "            batch_test_imgs = []\n",
    "            batch_test_texts = []\n",
    "\n",
    "            for img_name, text in zip(test_image_files[i:i+batch_size], test_text_lines[i:i+batch_size]):\n",
    "                img_path = os.path.join(test_img_folder, img_name)\n",
    "                img_array = load_image(img_path)\n",
    "                if img_array is not None:\n",
    "                    batch_test_imgs.append(img_array)\n",
    "                    batch_test_texts.append(text)\n",
    "\n",
    "            if batch_test_imgs and batch_test_texts:\n",
    "                test_img_feats = extract_img_feature(np.vstack(batch_test_imgs))\n",
    "                test_text_feats = embed_text(batch_test_texts)\n",
    "                test_paired_data.extend([\n",
    "                    (np.concatenate((img_feat, text_feat)), test_disease_class)\n",
    "                    for img_feat, text_feat in zip(test_img_feats, test_text_feats)\n",
    "                ])\n",
    "\n",
    "            gc.collect()\n",
    "\n",
    "    return test_paired_data"
   ],
   "id": "dd2398f6aec8e436",
   "outputs": [],
   "execution_count": 17
  },
  {
   "metadata": {
    "ExecuteTime": {
     "end_time": "2025-05-15T13:40:31.381002Z",
     "start_time": "2025-05-15T13:39:33.193135Z"
    }
   },
   "cell_type": "code",
   "source": [
    "# --- FINALIZE TEST FEATURES ---\n",
    "test_paired_data = pair_test_images_and_texts(batch_size=32)"
   ],
   "id": "899d8df0193ec0e3",
   "outputs": [
    {
     "name": "stdout",
     "output_type": "stream",
     "text": [
      "\u001B[1m1/1\u001B[0m \u001B[32m━━━━━━━━━━━━━━━━━━━━\u001B[0m\u001B[37m\u001B[0m \u001B[1m0s\u001B[0m 273ms/step\n",
      "\u001B[1m1/1\u001B[0m \u001B[32m━━━━━━━━━━━━━━━━━━━━\u001B[0m\u001B[37m\u001B[0m \u001B[1m1s\u001B[0m 812ms/step\n",
      "\u001B[1m1/1\u001B[0m \u001B[32m━━━━━━━━━━━━━━━━━━━━\u001B[0m\u001B[37m\u001B[0m \u001B[1m1s\u001B[0m 748ms/step\n",
      "\u001B[1m1/1\u001B[0m \u001B[32m━━━━━━━━━━━━━━━━━━━━\u001B[0m\u001B[37m\u001B[0m \u001B[1m1s\u001B[0m 886ms/step\n",
      "\u001B[1m1/1\u001B[0m \u001B[32m━━━━━━━━━━━━━━━━━━━━\u001B[0m\u001B[37m\u001B[0m \u001B[1m1s\u001B[0m 749ms/step\n",
      "\u001B[1m1/1\u001B[0m \u001B[32m━━━━━━━━━━━━━━━━━━━━\u001B[0m\u001B[37m\u001B[0m \u001B[1m1s\u001B[0m 519ms/step\n",
      "\u001B[1m1/1\u001B[0m \u001B[32m━━━━━━━━━━━━━━━━━━━━\u001B[0m\u001B[37m\u001B[0m \u001B[1m1s\u001B[0m 554ms/step\n",
      "\u001B[1m1/1\u001B[0m \u001B[32m━━━━━━━━━━━━━━━━━━━━\u001B[0m\u001B[37m\u001B[0m \u001B[1m1s\u001B[0m 553ms/step\n",
      "\u001B[1m1/1\u001B[0m \u001B[32m━━━━━━━━━━━━━━━━━━━━\u001B[0m\u001B[37m\u001B[0m \u001B[1m1s\u001B[0m 732ms/step\n",
      "\u001B[1m1/1\u001B[0m \u001B[32m━━━━━━━━━━━━━━━━━━━━\u001B[0m\u001B[37m\u001B[0m \u001B[1m0s\u001B[0m 475ms/step\n"
     ]
    }
   ],
   "execution_count": 18
  },
  {
   "metadata": {
    "ExecuteTime": {
     "end_time": "2025-05-15T13:40:32.868245Z",
     "start_time": "2025-05-15T13:40:32.828800Z"
    }
   },
   "cell_type": "code",
   "source": [
    "# --- PREPARE TEST DATA ---\n",
    "if not test_paired_data:\n",
    "    print(\"[ERROR] No test data was paired successfully.\")\n",
    "    exit(1)\n",
    "\n",
    "# Split test data into features and labels\n",
    "test_features_raw, test_labels_raw = zip(*test_paired_data)\n",
    "X_test = np.array(test_features_raw)\n",
    "y_test = np.array(test_labels_raw)\n",
    "\n",
    "# Load the scaler and label encoder\n",
    "scaler = joblib.load(SCALER_PATH)\n",
    "le = joblib.load(LABEL_ENCODER_PATH)\n",
    "\n",
    "# Preprocess test data\n",
    "X_test_scaled = scaler.transform(X_test)\n",
    "y_test_encoded = le.transform(y_test)\n",
    "y_test_categorical = to_categorical(y_test_encoded)"
   ],
   "id": "78547fd4c3f8626f",
   "outputs": [],
   "execution_count": 19
  },
  {
   "metadata": {
    "ExecuteTime": {
     "end_time": "2025-05-15T13:40:33.074420Z",
     "start_time": "2025-05-15T13:40:32.984573Z"
    }
   },
   "cell_type": "code",
   "source": [
    "# --- LOAD THE SAVED MODEL ---\n",
    "model = load_model(SAVE_MODEL_PATH)\n",
    "model.compile(optimizer=Adam(learning_rate=0.0001),\n",
    "              loss='categorical_crossentropy',\n",
    "              metrics=['accuracy'])"
   ],
   "id": "959572b918402b8b",
   "outputs": [],
   "execution_count": 20
  },
  {
   "metadata": {
    "ExecuteTime": {
     "end_time": "2025-05-15T13:40:33.278522Z",
     "start_time": "2025-05-15T13:40:33.105732Z"
    }
   },
   "cell_type": "code",
   "source": [
    "# --- EVALUATE ON TEST SET ---\n",
    "# Get loss and accuracy\n",
    "test_loss, test_acc = model.evaluate(X_test_scaled, y_test_categorical, verbose=1)\n",
    "print(f\"\\nTest Accuracy: {test_acc:.4f}\")\n",
    "print(f\"Test Loss: {test_loss:.4f}\")"
   ],
   "id": "eab91141e8e15bb7",
   "outputs": [
    {
     "name": "stdout",
     "output_type": "stream",
     "text": [
      "\u001B[1m10/10\u001B[0m \u001B[32m━━━━━━━━━━━━━━━━━━━━\u001B[0m\u001B[37m\u001B[0m \u001B[1m0s\u001B[0m 2ms/step - accuracy: 0.9491 - loss: 0.1673  \n",
      "\n",
      "Test Accuracy: 0.9484\n",
      "Test Loss: 0.1648\n"
     ]
    }
   ],
   "execution_count": 21
  },
  {
   "metadata": {
    "ExecuteTime": {
     "end_time": "2025-05-15T13:40:33.391505Z",
     "start_time": "2025-05-15T13:40:33.314752Z"
    }
   },
   "cell_type": "code",
   "source": [
    "predictions = model.predict(X_test_scaled)\n",
    "predicted_labels = np.argmax(predictions, axis=1)"
   ],
   "id": "32ca4b6632e2e804",
   "outputs": [
    {
     "name": "stdout",
     "output_type": "stream",
     "text": [
      "\u001B[1m10/10\u001B[0m \u001B[32m━━━━━━━━━━━━━━━━━━━━\u001B[0m\u001B[37m\u001B[0m \u001B[1m0s\u001B[0m 3ms/step \n"
     ]
    }
   ],
   "execution_count": 22
  },
  {
   "metadata": {
    "ExecuteTime": {
     "end_time": "2025-05-15T13:40:33.435278Z",
     "start_time": "2025-05-15T13:40:33.425957Z"
    }
   },
   "cell_type": "code",
   "source": [
    "# Classification Report\n",
    "report = classification_report(y_test_encoded, predicted_labels,\n",
    "                              target_names=DISEASE_CLASSES)\n",
    "report"
   ],
   "id": "5dec206c7831f3ef",
   "outputs": [
    {
     "data": {
      "text/plain": [
       "'                  precision    recall  f1-score   support\\n\\n            ปกติ       1.00      1.00      1.00        62\\n    โรคขอบใบแห้ง       1.00      1.00      1.00        62\\nโรคใบขีดโปร่งแสง       1.00      0.98      0.99        62\\nโรคใบจุดสีน้ำตาล       0.89      0.87      0.88        62\\n         โรคไหม้       0.86      0.89      0.87        62\\n\\n        accuracy                           0.95       310\\n       macro avg       0.95      0.95      0.95       310\\n    weighted avg       0.95      0.95      0.95       310\\n'"
      ]
     },
     "execution_count": 23,
     "metadata": {},
     "output_type": "execute_result"
    }
   ],
   "execution_count": 23
  },
  {
   "metadata": {
    "ExecuteTime": {
     "end_time": "2025-05-15T13:40:33.727386Z",
     "start_time": "2025-05-15T13:40:33.470658Z"
    }
   },
   "cell_type": "code",
   "source": [
    "# --- VISUALIZE RESULTS ---\n",
    "font_path = 'fonts/NotoSansThai-VariableFont_wdth,wght.ttf'\n",
    "thai_font = fm.FontProperties(fname=font_path)\n",
    "def plot_confusion_matrix(cm, classes, normalize=False, title='Confusion Matrix', cmap=plt.cm.Blues):\n",
    "    plt.figure(figsize=(8, 6))\n",
    "    plt.imshow(cm, interpolation='nearest', cmap=cmap)\n",
    "    plt.title(title, fontproperties=thai_font)\n",
    "    plt.colorbar()\n",
    "    tick_marks = np.arange(len(classes))\n",
    "\n",
    "    # Use Thai font for tick labels\n",
    "    plt.xticks(tick_marks, classes, rotation=45, fontproperties=thai_font)\n",
    "    plt.yticks(tick_marks, classes, fontproperties=thai_font)\n",
    "\n",
    "    if normalize:\n",
    "        cm = cm.astype('float') / cm.sum(axis=1)[:, np.newaxis]\n",
    "\n",
    "    thresh = cm.max() / 2.\n",
    "    for i in range(cm.shape[0]):\n",
    "        for j in range(cm.shape[1]):\n",
    "            plt.text(j, i, f'{cm[i, j]:.2f}' if normalize else cm[i, j],\n",
    "                     horizontalalignment=\"center\",\n",
    "                     color=\"white\" if cm[i, j] > thresh else \"black\",\n",
    "                     fontproperties=thai_font)\n",
    "\n",
    "    plt.tight_layout()\n",
    "    plt.ylabel('True label', fontproperties=thai_font)\n",
    "    plt.xlabel('Predicted label', fontproperties=thai_font)\n",
    "    plt.show()\n",
    "\n",
    "cm = confusion_matrix(y_test_encoded, predicted_labels)\n",
    "plot_confusion_matrix(cm, DISEASE_CLASSES)"
   ],
   "id": "6b2f368291084e2a",
   "outputs": [
    {
     "data": {
      "text/plain": [
       "<Figure size 800x600 with 2 Axes>"
      ],
      "image/png": "[encoded data removed]"
     },
     "metadata": {},
     "output_type": "display_data"
    }
   ],
   "execution_count": 24
  },
  {
   "metadata": {
    "ExecuteTime": {
     "end_time": "2025-05-15T13:40:33.758544Z",
     "start_time": "2025-05-15T13:40:33.756550Z"
    }
   },
   "cell_type": "code",
   "source": "print(cm)",
   "id": "217c104df7e67db7",
   "outputs": [
    {
     "name": "stdout",
     "output_type": "stream",
     "text": [
      "[[62  0  0  0  0]\n",
      " [ 0 62  0  0  0]\n",
      " [ 0  0 61  0  1]\n",
      " [ 0  0  0 54  8]\n",
      " [ 0  0  0  7 55]]\n"
     ]
    }
   ],
   "execution_count": 25
  },
  {
   "metadata": {
    "ExecuteTime": {
     "end_time": "2025-05-15T13:40:33.895726Z",
     "start_time": "2025-05-15T13:40:33.790315Z"
    }
   },
   "cell_type": "code",
   "source": [
    "import matplotlib.pyplot as plt\n",
    "\n",
    "# Plot Accuracy\n",
    "plt.figure(figsize=(12, 5))\n",
    "plt.subplot(1, 2, 1)\n",
    "plt.plot(history.history['accuracy'], label='Train Accuracy')\n",
    "plt.plot(history.history['val_accuracy'], label='Val Accuracy')\n",
    "plt.title('Model Accuracy')\n",
    "plt.xlabel('Epoch')\n",
    "plt.ylabel('Accuracy')\n",
    "plt.legend()\n",
    "\n",
    "# Plot Loss\n",
    "plt.subplot(1, 2, 2)\n",
    "plt.plot(history.history['loss'], label='Train Loss')\n",
    "plt.plot(history.history['val_loss'], label='Val Loss')\n",
    "plt.title('Model Loss')\n",
    "plt.xlabel('Epoch')\n",
    "plt.ylabel('Loss')\n",
    "plt.legend()\n",
    "\n",
    "plt.tight_layout()\n",
    "plt.show()"
   ],
   "id": "3ace2ee1adc23c24",
   "outputs": [
    {
     "data": {
      "text/plain": [
       "<Figure size 1200x500 with 2 Axes>"
      ],
      "image/png": "[encoded data removed]"
     },
     "metadata": {},
     "output_type": "display_data"
    }
   ],
   "execution_count": 26
  },
  {
   "metadata": {
    "ExecuteTime": {
     "end_time": "2025-05-15T13:42:27.224068Z",
     "start_time": "2025-05-15T13:42:27.145869Z"
    }
   },
   "cell_type": "code",
   "source": [
    "def permutation_importance_modality(model, X_val, y_val, metric=accuracy_score, image_dim=1024, text_dim=768, n_repeats=5):\n",
    "    baseline_score = metric(y_val, np.argmax(model.predict(X_val), axis=1))\n",
    "\n",
    "    importances = {}\n",
    "\n",
    "    for name, start, end in [(\"Image\", 0, image_dim), (\"Text\", image_dim, image_dim + text_dim)]:\n",
    "        scores = []\n",
    "        for _ in range(n_repeats):\n",
    "            X_permuted = X_val.copy()\n",
    "            idx = np.arange(start, end)\n",
    "            np.random.shuffle(idx)\n",
    "            X_permuted[:, start:end] = X_val[:, idx]\n",
    "            score = metric(y_val, np.argmax(model.predict(X_permuted), axis=1))\n",
    "            scores.append(baseline_score - score)\n",
    "        importances[name] = np.mean(scores)\n",
    "\n",
    "    return importances"
   ],
   "id": "9096e405c3b914a0",
   "outputs": [
    {
     "ename": "NameError",
     "evalue": "name 'accuracy_score' is not defined",
     "output_type": "error",
     "traceback": [
      "\u001B[0;31m---------------------------------------------------------------------------\u001B[0m",
      "\u001B[0;31mNameError\u001B[0m                                 Traceback (most recent call last)",
      "Cell \u001B[0;32mIn[28], line 1\u001B[0m\n\u001B[0;32m----> 1\u001B[0m \u001B[38;5;28;01mdef\u001B[39;00m\u001B[38;5;250m \u001B[39m\u001B[38;5;21mpermutation_importance_modality\u001B[39m(model, X_val, y_val, metric\u001B[38;5;241m=\u001B[39m\u001B[43maccuracy_score\u001B[49m, image_dim\u001B[38;5;241m=\u001B[39m\u001B[38;5;241m1024\u001B[39m, text_dim\u001B[38;5;241m=\u001B[39m\u001B[38;5;241m768\u001B[39m, n_repeats\u001B[38;5;241m=\u001B[39m\u001B[38;5;241m5\u001B[39m):\n\u001B[1;32m      2\u001B[0m     baseline_score \u001B[38;5;241m=\u001B[39m metric(y_val, np\u001B[38;5;241m.\u001B[39margmax(model\u001B[38;5;241m.\u001B[39mpredict(X_val), axis\u001B[38;5;241m=\u001B[39m\u001B[38;5;241m1\u001B[39m))\n\u001B[1;32m      4\u001B[0m     importances \u001B[38;5;241m=\u001B[39m {}\n",
      "\u001B[0;31mNameError\u001B[0m: name 'accuracy_score' is not defined"
     ]
    }
   ],
   "execution_count": 28
  },
  {
   "metadata": {
    "ExecuteTime": {
     "end_time": "2025-05-15T13:40:33.998247Z",
     "start_time": "2025-05-15T13:22:37.498034Z"
    }
   },
   "cell_type": "code",
   "source": [
    "from sklearn.metrics import accuracy_score\n",
    "\n",
    "importances = permutation_importance_modality(model, X_train_scaled, y_train_encoded)\n",
    "\n",
    "plt.bar(importances.keys(), importances.values(), color=['skyblue', 'salmon'])\n",
    "plt.title(\"Modality-Level Permutation Importance\")\n",
    "plt.ylabel(\"Importance Score\")\n",
    "plt.show()\n",
    "\n",
    "for modality, score in importances.items():\n",
    "    print(f\"{modality} Importance: {score:.4f}\")"
   ],
   "id": "8f86543e0ef72605",
   "outputs": [
    {
     "name": "stdout",
     "output_type": "stream",
     "text": [
      "\u001B[1m28/28\u001B[0m \u001B[32m━━━━━━━━━━━━━━━━━━━━\u001B[0m\u001B[37m\u001B[0m \u001B[1m0s\u001B[0m 2ms/step \n",
      "\u001B[1m28/28\u001B[0m \u001B[32m━━━━━━━━━━━━━━━━━━━━\u001B[0m\u001B[37m\u001B[0m \u001B[1m0s\u001B[0m 968us/step\n",
      "\u001B[1m28/28\u001B[0m \u001B[32m━━━━━━━━━━━━━━━━━━━━\u001B[0m\u001B[37m\u001B[0m \u001B[1m0s\u001B[0m 870us/step\n",
      "\u001B[1m28/28\u001B[0m \u001B[32m━━━━━━━━━━━━━━━━━━━━\u001B[0m\u001B[37m\u001B[0m \u001B[1m0s\u001B[0m 832us/step\n",
      "\u001B[1m28/28\u001B[0m \u001B[32m━━━━━━━━━━━━━━━━━━━━\u001B[0m\u001B[37m\u001B[0m \u001B[1m0s\u001B[0m 761us/step\n",
      "\u001B[1m28/28\u001B[0m \u001B[32m━━━━━━━━━━━━━━━━━━━━\u001B[0m\u001B[37m\u001B[0m \u001B[1m0s\u001B[0m 803us/step\n",
      "\u001B[1m28/28\u001B[0m \u001B[32m━━━━━━━━━━━━━━━━━━━━\u001B[0m\u001B[37m\u001B[0m \u001B[1m0s\u001B[0m 787us/step\n",
      "\u001B[1m28/28\u001B[0m \u001B[32m━━━━━━━━━━━━━━━━━━━━\u001B[0m\u001B[37m\u001B[0m \u001B[1m0s\u001B[0m 780us/step\n",
      "\u001B[1m28/28\u001B[0m \u001B[32m━━━━━━━━━━━━━━━━━━━━\u001B[0m\u001B[37m\u001B[0m \u001B[1m0s\u001B[0m 796us/step\n",
      "\u001B[1m28/28\u001B[0m \u001B[32m━━━━━━━━━━━━━━━━━━━━\u001B[0m\u001B[37m\u001B[0m \u001B[1m0s\u001B[0m 796us/step\n",
      "\u001B[1m28/28\u001B[0m \u001B[32m━━━━━━━━━━━━━━━━━━━━\u001B[0m\u001B[37m\u001B[0m \u001B[1m0s\u001B[0m 787us/step\n"
     ]
    },
    {
     "data": {
      "text/plain": [
       "<Figure size 640x480 with 1 Axes>"
      ],
      "image/png": "[encoded data removed]"
     },
     "metadata": {},
     "output_type": "display_data"
    },
    {
     "name": "stdout",
     "output_type": "stream",
     "text": [
      "Image Importance: 0.0133\n",
      "Text Importance: 0.0085\n"
     ]
    }
   ],
   "execution_count": 42
  }
 ],
 "metadata": {},
 "nbformat": 4,
 "nbformat_minor": 5
}
