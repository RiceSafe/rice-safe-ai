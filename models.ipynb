{
 "cells": [
  {
   "metadata": {
    "ExecuteTime": {
     "end_time": "2025-05-14T15:59:37.478939Z",
     "start_time": "2025-05-14T15:59:37.239888Z"
    }
   },
   "cell_type": "code",
   "source": [
    "import os\n",
    "import torch\n",
    "import numpy as np\n",
    "import pandas as pd\n",
    "import matplotlib.pyplot as plt\n",
    "from matplotlib import font_manager as fm\n",
    "from tensorflow.keras.models import Sequential, load_model\n",
    "from tensorflow.keras.layers import Dense, Dropout, Input, BatchNormalization\n",
    "from tensorflow.keras.utils import to_categorical\n",
    "from tensorflow.keras.applications import MobileNetV2\n",
    "from tensorflow.keras.preprocessing import image as tf_image\n",
    "from tensorflow.keras.applications.mobilenet_v2 import preprocess_input\n",
    "from tensorflow.keras.optimizers import Adam\n",
    "from tensorflow.keras.callbacks import EarlyStopping, ReduceLROnPlateau, ModelCheckpoint\n",
    "from transformers import AutoTokenizer, AutoModel\n",
    "from sklearn.preprocessing import LabelEncoder, StandardScaler\n",
    "from sklearn.metrics import classification_report, confusion_matrix\n",
    "from sklearn.model_selection import train_test_split\n",
    "import joblib\n",
    "import gc"
   ],
   "id": "d0dddfaa71795caf",
   "outputs": [],
   "execution_count": 43
  },
  {
   "metadata": {
    "ExecuteTime": {
     "end_time": "2025-05-14T15:59:38.353038Z",
     "start_time": "2025-05-14T15:59:38.323010Z"
    }
   },
   "cell_type": "code",
   "source": [
    "# --- SETTINGS ---\n",
    "DEVICE = torch.device('cuda' if torch.cuda.is_available() else 'cpu')\n",
    "TRAIN_IMG_DIR = 'data/train_image/'\n",
    "TEST_IMG_DIR = 'data/test_image/'\n",
    "TRAIN_TEXT_DIR = 'data/train_text/'\n",
    "TEST_TEXT_DIR = 'data/test_text/'\n",
    "SAVE_MODEL_PATH = 'RiceSafeModel.keras'\n",
    "LABEL_ENCODER_PATH = 'label_encoder.pkl'\n",
    "SCALER_PATH = 'scaler.pkl'"
   ],
   "id": "9182374ca6bc08be",
   "outputs": [],
   "execution_count": 44
  },
  {
   "metadata": {
    "ExecuteTime": {
     "end_time": "2025-05-14T15:59:38.451528Z",
     "start_time": "2025-05-14T15:59:38.415434Z"
    }
   },
   "cell_type": "code",
   "source": "DISEASE_CLASSES = ['ปกติ', 'โรคขอบใบแห้ง', 'โรคใบขีดโปร่งแสง', 'โรคใบจุดสีน้ำตาล', 'โรคไหม้']",
   "id": "3dd3500e00d9c506",
   "outputs": [],
   "execution_count": 45
  },
  {
   "metadata": {
    "ExecuteTime": {
     "end_time": "2025-05-14T15:59:38.991502Z",
     "start_time": "2025-05-14T15:59:38.984612Z"
    }
   },
   "cell_type": "code",
   "source": [
    "# --- IMAGE PROCESSING ---\n",
    "def load_image(img_path):\n",
    "    try:\n",
    "        img = tf_image.load_img(img_path, target_size=(224, 224))\n",
    "        img_array = tf_image.img_to_array(img)\n",
    "        img_array = np.expand_dims(img_array, axis=0)  # Shape: (1, 224, 224, 3)\n",
    "        return preprocess_input(img_array)\n",
    "    except Exception as e:\n",
    "        print(f\"[ERROR] Failed to load {img_path}: {e}\")\n",
    "        return None"
   ],
   "id": "4728680032a7da79",
   "outputs": [],
   "execution_count": 46
  },
  {
   "metadata": {
    "ExecuteTime": {
     "end_time": "2025-05-14T15:59:53.309320Z",
     "start_time": "2025-05-14T15:59:39.044744Z"
    }
   },
   "cell_type": "code",
   "source": [
    "# --- TEXT EMBEDDING ---\n",
    "tokenizer = AutoTokenizer.from_pretrained(\"BAAI/bge-m3\")\n",
    "text_model = AutoModel.from_pretrained(\"BAAI/bge-m3\").to(DEVICE).eval()\n",
    "\n",
    "@torch.no_grad()\n",
    "def embed_text(text):\n",
    "    inputs = tokenizer(text, return_tensors=\"pt\", truncation=True, padding=True).to(DEVICE)\n",
    "    outputs = text_model(**inputs)\n",
    "    return outputs.last_hidden_state.mean(dim=1).cpu().numpy()"
   ],
   "id": "99027acb8b75271",
   "outputs": [],
   "execution_count": 47
  },
  {
   "metadata": {
    "ExecuteTime": {
     "end_time": "2025-05-14T15:59:55.349469Z",
     "start_time": "2025-05-14T15:59:54.107333Z"
    }
   },
   "cell_type": "code",
   "source": [
    "# --- IMAGE FEATURE EXTRACTOR ---\n",
    "mobilenet = MobileNetV2(weights='imagenet', include_top=False, pooling='avg')\n",
    "mobilenet.trainable = False\n",
    "\n",
    "def extract_img_feature(img_array):\n",
    "    if isinstance(img_array, list):\n",
    "        img_array = np.vstack(img_array)\n",
    "    features = mobilenet.predict(img_array)\n",
    "    return features"
   ],
   "id": "43556c94d669073d",
   "outputs": [
    {
     "name": "stderr",
     "output_type": "stream",
     "text": [
      "/var/folders/dq/b3nl28f51bsblfk_lyn94j240000gn/T/ipykernel_1303/503381850.py:2: UserWarning: `input_shape` is undefined or non-square, or `rows` is not in [96, 128, 160, 192, 224]. Weights for input shape (224, 224) will be loaded as the default.\n",
      "  mobilenet = MobileNetV2(weights='imagenet', include_top=False, pooling='avg')\n"
     ]
    }
   ],
   "execution_count": 48
  },
  {
   "metadata": {
    "ExecuteTime": {
     "end_time": "2025-05-14T15:59:55.555844Z",
     "start_time": "2025-05-14T15:59:55.544207Z"
    }
   },
   "cell_type": "code",
   "source": [
    "# --- MAIN PAIRING FUNCTION ---\n",
    "def pair_images_and_texts(batch_size=32):\n",
    "    paired_data = []\n",
    "\n",
    "    for disease_class in os.listdir(TRAIN_IMG_DIR):\n",
    "        img_folder = os.path.join(TRAIN_IMG_DIR, disease_class)\n",
    "        text_file = os.path.join(TRAIN_TEXT_DIR, f\"{disease_class}.csv\")\n",
    "\n",
    "        if not os.path.isdir(img_folder) or not os.path.isfile(text_file):\n",
    "            print(f\"[SKIP] {disease_class}: Folder or CSV not found.\")\n",
    "            continue\n",
    "\n",
    "        image_files = sorted([\n",
    "            f for f in os.listdir(img_folder)\n",
    "            if f.lower().endswith(('.jpg', '.jpeg', '.png'))\n",
    "        ])\n",
    "        df_text = pd.read_csv(text_file)\n",
    "        text_lines = df_text.iloc[:, 0].tolist()\n",
    "\n",
    "        if len(image_files) != len(text_lines):\n",
    "            print(f\"[WARNING] Mismatch in {disease_class}: {len(image_files)} images vs {len(text_lines)} texts\")\n",
    "            continue\n",
    "\n",
    "        for i in range(0, len(image_files), batch_size):\n",
    "            batch_imgs = []\n",
    "            batch_texts = []\n",
    "\n",
    "            for img_name, text in zip(image_files[i:i+batch_size], text_lines[i:i+batch_size]):\n",
    "                img_path = os.path.join(img_folder, img_name)\n",
    "                img_array = load_image(img_path)\n",
    "                if img_array is not None:\n",
    "                    batch_imgs.append(img_array)\n",
    "                    batch_texts.append(text)\n",
    "\n",
    "            if batch_imgs and batch_texts:\n",
    "                img_feats = extract_img_feature(np.vstack(batch_imgs))\n",
    "                text_feats = embed_text(batch_texts)\n",
    "                paired_data.extend([\n",
    "                    (np.concatenate((img_feat, text_feat)), disease_class)\n",
    "                    for img_feat, text_feat in zip(img_feats, text_feats)\n",
    "                ])\n",
    "\n",
    "\n",
    "            gc.collect()\n",
    "\n",
    "    return paired_data"
   ],
   "id": "7ad063ae22117ba",
   "outputs": [],
   "execution_count": 49
  },
  {
   "metadata": {
    "ExecuteTime": {
     "end_time": "2025-05-14T16:04:53.467025Z",
     "start_time": "2025-05-14T15:59:55.617685Z"
    }
   },
   "cell_type": "code",
   "source": [
    "# --- FINALIZE TRAINING FEATURES ---\n",
    "# print(\"[*] Pairing images and texts...\")\n",
    "paired_data = pair_images_and_texts(batch_size=32)\n",
    "# print(f\"[DONE] Paired {len(paired_data)} image-text entries.\")"
   ],
   "id": "dcada607e50a936b",
   "outputs": [
    {
     "name": "stdout",
     "output_type": "stream",
     "text": [
      "\u001B[1m1/1\u001B[0m \u001B[32m━━━━━━━━━━━━━━━━━━━━\u001B[0m\u001B[37m\u001B[0m \u001B[1m2s\u001B[0m 2s/step\n",
      "\u001B[1m1/1\u001B[0m \u001B[32m━━━━━━━━━━━━━━━━━━━━\u001B[0m\u001B[37m\u001B[0m \u001B[1m1s\u001B[0m 802ms/step\n",
      "\u001B[1m1/1\u001B[0m \u001B[32m━━━━━━━━━━━━━━━━━━━━\u001B[0m\u001B[37m\u001B[0m \u001B[1m1s\u001B[0m 757ms/step\n",
      "\u001B[1m1/1\u001B[0m \u001B[32m━━━━━━━━━━━━━━━━━━━━\u001B[0m\u001B[37m\u001B[0m \u001B[1m1s\u001B[0m 1s/step\n",
      "\u001B[1m1/1\u001B[0m \u001B[32m━━━━━━━━━━━━━━━━━━━━\u001B[0m\u001B[37m\u001B[0m \u001B[1m1s\u001B[0m 800ms/step\n",
      "\u001B[1m1/1\u001B[0m \u001B[32m━━━━━━━━━━━━━━━━━━━━\u001B[0m\u001B[37m\u001B[0m \u001B[1m1s\u001B[0m 712ms/step\n",
      "\u001B[1m1/1\u001B[0m \u001B[32m━━━━━━━━━━━━━━━━━━━━\u001B[0m\u001B[37m\u001B[0m \u001B[1m1s\u001B[0m 804ms/step\n",
      "\u001B[1m1/1\u001B[0m \u001B[32m━━━━━━━━━━━━━━━━━━━━\u001B[0m\u001B[37m\u001B[0m \u001B[1m2s\u001B[0m 2s/step\n",
      "[SKIP] .DS_Store: Folder or CSV not found.\n",
      "\u001B[1m1/1\u001B[0m \u001B[32m━━━━━━━━━━━━━━━━━━━━\u001B[0m\u001B[37m\u001B[0m \u001B[1m2s\u001B[0m 2s/step\n",
      "\u001B[1m1/1\u001B[0m \u001B[32m━━━━━━━━━━━━━━━━━━━━\u001B[0m\u001B[37m\u001B[0m \u001B[1m1s\u001B[0m 746ms/step\n",
      "\u001B[1m1/1\u001B[0m \u001B[32m━━━━━━━━━━━━━━━━━━━━\u001B[0m\u001B[37m\u001B[0m \u001B[1m1s\u001B[0m 1s/step\n",
      "\u001B[1m1/1\u001B[0m \u001B[32m━━━━━━━━━━━━━━━━━━━━\u001B[0m\u001B[37m\u001B[0m \u001B[1m1s\u001B[0m 876ms/step\n",
      "\u001B[1m1/1\u001B[0m \u001B[32m━━━━━━━━━━━━━━━━━━━━\u001B[0m\u001B[37m\u001B[0m \u001B[1m1s\u001B[0m 775ms/step\n",
      "\u001B[1m1/1\u001B[0m \u001B[32m━━━━━━━━━━━━━━━━━━━━\u001B[0m\u001B[37m\u001B[0m \u001B[1m1s\u001B[0m 799ms/step\n",
      "\u001B[1m1/1\u001B[0m \u001B[32m━━━━━━━━━━━━━━━━━━━━\u001B[0m\u001B[37m\u001B[0m \u001B[1m1s\u001B[0m 704ms/step\n",
      "\u001B[1m1/1\u001B[0m \u001B[32m━━━━━━━━━━━━━━━━━━━━\u001B[0m\u001B[37m\u001B[0m \u001B[1m1s\u001B[0m 535ms/step\n",
      "\u001B[1m1/1\u001B[0m \u001B[32m━━━━━━━━━━━━━━━━━━━━\u001B[0m\u001B[37m\u001B[0m \u001B[1m1s\u001B[0m 661ms/step\n",
      "\u001B[1m1/1\u001B[0m \u001B[32m━━━━━━━━━━━━━━━━━━━━\u001B[0m\u001B[37m\u001B[0m \u001B[1m1s\u001B[0m 605ms/step\n",
      "\u001B[1m1/1\u001B[0m \u001B[32m━━━━━━━━━━━━━━━━━━━━\u001B[0m\u001B[37m\u001B[0m \u001B[1m1s\u001B[0m 724ms/step\n",
      "\u001B[1m1/1\u001B[0m \u001B[32m━━━━━━━━━━━━━━━━━━━━\u001B[0m\u001B[37m\u001B[0m \u001B[1m1s\u001B[0m 869ms/step\n",
      "\u001B[1m1/1\u001B[0m \u001B[32m━━━━━━━━━━━━━━━━━━━━\u001B[0m\u001B[37m\u001B[0m \u001B[1m1s\u001B[0m 874ms/step\n",
      "\u001B[1m1/1\u001B[0m \u001B[32m━━━━━━━━━━━━━━━━━━━━\u001B[0m\u001B[37m\u001B[0m \u001B[1m1s\u001B[0m 774ms/step\n",
      "\u001B[1m1/1\u001B[0m \u001B[32m━━━━━━━━━━━━━━━━━━━━\u001B[0m\u001B[37m\u001B[0m \u001B[1m1s\u001B[0m 592ms/step\n",
      "\u001B[1m1/1\u001B[0m \u001B[32m━━━━━━━━━━━━━━━━━━━━\u001B[0m\u001B[37m\u001B[0m \u001B[1m0s\u001B[0m 306ms/step\n",
      "\u001B[1m1/1\u001B[0m \u001B[32m━━━━━━━━━━━━━━━━━━━━\u001B[0m\u001B[37m\u001B[0m \u001B[1m1s\u001B[0m 875ms/step\n",
      "\u001B[1m1/1\u001B[0m \u001B[32m━━━━━━━━━━━━━━━━━━━━\u001B[0m\u001B[37m\u001B[0m \u001B[1m1s\u001B[0m 655ms/step\n",
      "\u001B[1m1/1\u001B[0m \u001B[32m━━━━━━━━━━━━━━━━━━━━\u001B[0m\u001B[37m\u001B[0m \u001B[1m0s\u001B[0m 345ms/step\n",
      "\u001B[1m1/1\u001B[0m \u001B[32m━━━━━━━━━━━━━━━━━━━━\u001B[0m\u001B[37m\u001B[0m \u001B[1m0s\u001B[0m 274ms/step\n",
      "\u001B[1m1/1\u001B[0m \u001B[32m━━━━━━━━━━━━━━━━━━━━\u001B[0m\u001B[37m\u001B[0m \u001B[1m0s\u001B[0m 292ms/step\n",
      "\u001B[1m1/1\u001B[0m \u001B[32m━━━━━━━━━━━━━━━━━━━━\u001B[0m\u001B[37m\u001B[0m \u001B[1m1s\u001B[0m 574ms/step\n",
      "\u001B[1m1/1\u001B[0m \u001B[32m━━━━━━━━━━━━━━━━━━━━\u001B[0m\u001B[37m\u001B[0m \u001B[1m1s\u001B[0m 615ms/step\n",
      "\u001B[1m1/1\u001B[0m \u001B[32m━━━━━━━━━━━━━━━━━━━━\u001B[0m\u001B[37m\u001B[0m \u001B[1m1s\u001B[0m 565ms/step\n",
      "\u001B[1m1/1\u001B[0m \u001B[32m━━━━━━━━━━━━━━━━━━━━\u001B[0m\u001B[37m\u001B[0m \u001B[1m1s\u001B[0m 823ms/step\n",
      "\u001B[1m1/1\u001B[0m \u001B[32m━━━━━━━━━━━━━━━━━━━━\u001B[0m\u001B[37m\u001B[0m \u001B[1m1s\u001B[0m 705ms/step\n",
      "\u001B[1m1/1\u001B[0m \u001B[32m━━━━━━━━━━━━━━━━━━━━\u001B[0m\u001B[37m\u001B[0m \u001B[1m1s\u001B[0m 635ms/step\n",
      "\u001B[1m1/1\u001B[0m \u001B[32m━━━━━━━━━━━━━━━━━━━━\u001B[0m\u001B[37m\u001B[0m \u001B[1m1s\u001B[0m 755ms/step\n",
      "\u001B[1m1/1\u001B[0m \u001B[32m━━━━━━━━━━━━━━━━━━━━\u001B[0m\u001B[37m\u001B[0m \u001B[1m1s\u001B[0m 674ms/step\n",
      "\u001B[1m1/1\u001B[0m \u001B[32m━━━━━━━━━━━━━━━━━━━━\u001B[0m\u001B[37m\u001B[0m \u001B[1m0s\u001B[0m 399ms/step\n",
      "\u001B[1m1/1\u001B[0m \u001B[32m━━━━━━━━━━━━━━━━━━━━\u001B[0m\u001B[37m\u001B[0m \u001B[1m0s\u001B[0m 474ms/step\n",
      "\u001B[1m1/1\u001B[0m \u001B[32m━━━━━━━━━━━━━━━━━━━━\u001B[0m\u001B[37m\u001B[0m \u001B[1m1s\u001B[0m 917ms/step\n"
     ]
    }
   ],
   "execution_count": 50
  },
  {
   "metadata": {
    "ExecuteTime": {
     "end_time": "2025-05-14T16:04:53.749192Z",
     "start_time": "2025-05-14T16:04:53.655055Z"
    }
   },
   "cell_type": "code",
   "source": [
    "if not paired_data:\n",
    "    print(\"[!] No training data found.\")\n",
    "    exit(1)\n",
    "\n",
    "for i, entry in enumerate(paired_data):\n",
    "    if not isinstance(entry, tuple) or len(entry) != 2:\n",
    "        print(f\"[!] Invalid entry at index {i}: {entry}\")\n",
    "\n",
    "# --- SPLIT FEATURES AND LABELS ---\n",
    "features, labels = zip(*paired_data)\n",
    "X = np.array(features)\n",
    "y = np.array(labels)\n",
    "\n",
    "# Split into train and validation sets\n",
    "X_train, X_val, y_train, y_val = train_test_split(\n",
    "    X, y, test_size=0.2, random_state=42, stratify=y\n",
    ")"
   ],
   "id": "3a0bbd0b2dc54422",
   "outputs": [],
   "execution_count": 51
  },
  {
   "metadata": {
    "ExecuteTime": {
     "end_time": "2025-05-14T16:04:53.859319Z",
     "start_time": "2025-05-14T16:04:53.813767Z"
    }
   },
   "cell_type": "code",
   "source": [
    "# --- FEATURE SCALING ---\n",
    "scaler = StandardScaler()\n",
    "X_train_scaled = scaler.fit_transform(X_train)\n",
    "X_val_scaled = scaler.transform(X_val)\n",
    "joblib.dump(scaler, SCALER_PATH)\n",
    "\n",
    "# --- LABELS ENCODING ---\n",
    "le = LabelEncoder()\n",
    "y_train_encoded = le.fit_transform(y_train)\n",
    "y_val_encoded = le.transform(y_val)\n",
    "y_train_categorical = to_categorical(y_train_encoded)\n",
    "y_val_categorical = to_categorical(y_val_encoded)\n",
    "joblib.dump(le, LABEL_ENCODER_PATH)"
   ],
   "id": "c0b2972707eca75e",
   "outputs": [
    {
     "data": {
      "text/plain": [
       "['label_encoder.pkl']"
      ]
     },
     "execution_count": 52,
     "metadata": {},
     "output_type": "execute_result"
    }
   ],
   "execution_count": 52
  },
  {
   "metadata": {
    "ExecuteTime": {
     "end_time": "2025-05-14T16:04:53.961506Z",
     "start_time": "2025-05-14T16:04:53.910928Z"
    }
   },
   "cell_type": "code",
   "source": [
    "# --- DEFINE NEURAL NETWORK ---\n",
    "model = Sequential([\n",
    "    Input(shape=(X_train_scaled.shape[1],)),\n",
    "    Dense(256, activation='relu'),\n",
    "    BatchNormalization(),\n",
    "    Dropout(0.3),\n",
    "    Dense(128, activation='relu'),\n",
    "    BatchNormalization(),\n",
    "    Dropout(0.3),\n",
    "    Dense(len(DISEASE_CLASSES), activation='softmax')\n",
    "])\n",
    "\n",
    "optimizer = Adam(learning_rate=0.0001)\n",
    "model.compile(optimizer=optimizer, loss='categorical_crossentropy', metrics=['accuracy'])\n",
    "\n",
    "# Callbacks\n",
    "callbacks = [\n",
    "    EarlyStopping(monitor='val_loss', patience=10, restore_best_weights=True),\n",
    "    ReduceLROnPlateau(monitor='val_loss', factor=0.2, patience=5, min_lr=1e-6),\n",
    "    ModelCheckpoint(SAVE_MODEL_PATH, save_best_only=True, monitor='val_accuracy')\n",
    "]"
   ],
   "id": "2087c10f5ddf4d0a",
   "outputs": [],
   "execution_count": 53
  },
  {
   "metadata": {
    "ExecuteTime": {
     "end_time": "2025-05-14T16:05:06.905955Z",
     "start_time": "2025-05-14T16:04:54.002893Z"
    }
   },
   "cell_type": "code",
   "source": [
    "# --- TRAIN MODEL ---\n",
    "# Training\n",
    "history = model.fit(\n",
    "    X_train_scaled, y_train_categorical,\n",
    "    validation_data=(X_val_scaled, y_val_categorical),\n",
    "    epochs=100,\n",
    "    batch_size=32,\n",
    "    callbacks=callbacks,\n",
    "    verbose=1\n",
    ")\n",
    "# --- SAVE MODEL & ENCODER ---\n",
    "model.save(SAVE_MODEL_PATH)\n",
    "joblib.dump(le, LABEL_ENCODER_PATH)"
   ],
   "id": "6743bbfbd17f4eb1",
   "outputs": [
    {
     "name": "stdout",
     "output_type": "stream",
     "text": [
      "Epoch 1/100\n",
      "\u001B[1m32/32\u001B[0m \u001B[32m━━━━━━━━━━━━━━━━━━━━\u001B[0m\u001B[37m\u001B[0m \u001B[1m2s\u001B[0m 10ms/step - accuracy: 0.3565 - loss: 1.8828 - val_accuracy: 0.7080 - val_loss: 0.7632 - learning_rate: 1.0000e-04\n",
      "Epoch 2/100\n",
      "\u001B[1m32/32\u001B[0m \u001B[32m━━━━━━━━━━━━━━━━━━━━\u001B[0m\u001B[37m\u001B[0m \u001B[1m0s\u001B[0m 4ms/step - accuracy: 0.7792 - loss: 0.5904 - val_accuracy: 0.8720 - val_loss: 0.4127 - learning_rate: 1.0000e-04\n",
      "Epoch 3/100\n",
      "\u001B[1m32/32\u001B[0m \u001B[32m━━━━━━━━━━━━━━━━━━━━\u001B[0m\u001B[37m\u001B[0m \u001B[1m0s\u001B[0m 5ms/step - accuracy: 0.8727 - loss: 0.3611 - val_accuracy: 0.9320 - val_loss: 0.2541 - learning_rate: 1.0000e-04\n",
      "Epoch 4/100\n",
      "\u001B[1m32/32\u001B[0m \u001B[32m━━━━━━━━━━━━━━━━━━━━\u001B[0m\u001B[37m\u001B[0m \u001B[1m0s\u001B[0m 4ms/step - accuracy: 0.9069 - loss: 0.2674 - val_accuracy: 0.9600 - val_loss: 0.1673 - learning_rate: 1.0000e-04\n",
      "Epoch 5/100\n",
      "\u001B[1m32/32\u001B[0m \u001B[32m━━━━━━━━━━━━━━━━━━━━\u001B[0m\u001B[37m\u001B[0m \u001B[1m0s\u001B[0m 4ms/step - accuracy: 0.9636 - loss: 0.1782 - val_accuracy: 0.9800 - val_loss: 0.1240 - learning_rate: 1.0000e-04\n",
      "Epoch 6/100\n",
      "\u001B[1m32/32\u001B[0m \u001B[32m━━━━━━━━━━━━━━━━━━━━\u001B[0m\u001B[37m\u001B[0m \u001B[1m0s\u001B[0m 4ms/step - accuracy: 0.9716 - loss: 0.1154 - val_accuracy: 0.9880 - val_loss: 0.0957 - learning_rate: 1.0000e-04\n",
      "Epoch 7/100\n",
      "\u001B[1m32/32\u001B[0m \u001B[32m━━━━━━━━━━━━━━━━━━━━\u001B[0m\u001B[37m\u001B[0m \u001B[1m0s\u001B[0m 4ms/step - accuracy: 0.9797 - loss: 0.1172 - val_accuracy: 0.9880 - val_loss: 0.0762 - learning_rate: 1.0000e-04\n",
      "Epoch 8/100\n",
      "\u001B[1m32/32\u001B[0m \u001B[32m━━━━━━━━━━━━━━━━━━━━\u001B[0m\u001B[37m\u001B[0m \u001B[1m0s\u001B[0m 3ms/step - accuracy: 0.9706 - loss: 0.1245 - val_accuracy: 0.9880 - val_loss: 0.0647 - learning_rate: 1.0000e-04\n",
      "Epoch 9/100\n",
      "\u001B[1m32/32\u001B[0m \u001B[32m━━━━━━━━━━━━━━━━━━━━\u001B[0m\u001B[37m\u001B[0m \u001B[1m0s\u001B[0m 4ms/step - accuracy: 0.9826 - loss: 0.0847 - val_accuracy: 0.9920 - val_loss: 0.0527 - learning_rate: 1.0000e-04\n",
      "Epoch 10/100\n",
      "\u001B[1m32/32\u001B[0m \u001B[32m━━━━━━━━━━━━━━━━━━━━\u001B[0m\u001B[37m\u001B[0m \u001B[1m0s\u001B[0m 4ms/step - accuracy: 0.9945 - loss: 0.0639 - val_accuracy: 0.9920 - val_loss: 0.0447 - learning_rate: 1.0000e-04\n",
      "Epoch 11/100\n",
      "\u001B[1m32/32\u001B[0m \u001B[32m━━━━━━━━━━━━━━━━━━━━\u001B[0m\u001B[37m\u001B[0m \u001B[1m0s\u001B[0m 3ms/step - accuracy: 0.9957 - loss: 0.0559 - val_accuracy: 0.9920 - val_loss: 0.0398 - learning_rate: 1.0000e-04\n",
      "Epoch 12/100\n",
      "\u001B[1m32/32\u001B[0m \u001B[32m━━━━━━━━━━━━━━━━━━━━\u001B[0m\u001B[37m\u001B[0m \u001B[1m0s\u001B[0m 4ms/step - accuracy: 0.9909 - loss: 0.0470 - val_accuracy: 0.9960 - val_loss: 0.0355 - learning_rate: 1.0000e-04\n",
      "Epoch 13/100\n",
      "\u001B[1m32/32\u001B[0m \u001B[32m━━━━━━━━━━━━━━━━━━━━\u001B[0m\u001B[37m\u001B[0m \u001B[1m0s\u001B[0m 3ms/step - accuracy: 0.9942 - loss: 0.0451 - val_accuracy: 0.9960 - val_loss: 0.0331 - learning_rate: 1.0000e-04\n",
      "Epoch 14/100\n",
      "\u001B[1m32/32\u001B[0m \u001B[32m━━━━━━━━━━━━━━━━━━━━\u001B[0m\u001B[37m\u001B[0m \u001B[1m0s\u001B[0m 4ms/step - accuracy: 0.9936 - loss: 0.0474 - val_accuracy: 1.0000 - val_loss: 0.0328 - learning_rate: 1.0000e-04\n",
      "Epoch 15/100\n",
      "\u001B[1m32/32\u001B[0m \u001B[32m━━━━━━━━━━━━━━━━━━━━\u001B[0m\u001B[37m\u001B[0m \u001B[1m0s\u001B[0m 3ms/step - accuracy: 0.9948 - loss: 0.0338 - val_accuracy: 1.0000 - val_loss: 0.0282 - learning_rate: 1.0000e-04\n",
      "Epoch 16/100\n",
      "\u001B[1m32/32\u001B[0m \u001B[32m━━━━━━━━━━━━━━━━━━━━\u001B[0m\u001B[37m\u001B[0m \u001B[1m0s\u001B[0m 4ms/step - accuracy: 0.9929 - loss: 0.0327 - val_accuracy: 0.9960 - val_loss: 0.0263 - learning_rate: 1.0000e-04\n",
      "Epoch 17/100\n",
      "\u001B[1m32/32\u001B[0m \u001B[32m━━━━━━━━━━━━━━━━━━━━\u001B[0m\u001B[37m\u001B[0m \u001B[1m0s\u001B[0m 3ms/step - accuracy: 0.9984 - loss: 0.0265 - val_accuracy: 0.9960 - val_loss: 0.0250 - learning_rate: 1.0000e-04\n",
      "Epoch 18/100\n",
      "\u001B[1m32/32\u001B[0m \u001B[32m━━━━━━━━━━━━━━━━━━━━\u001B[0m\u001B[37m\u001B[0m \u001B[1m0s\u001B[0m 3ms/step - accuracy: 0.9977 - loss: 0.0234 - val_accuracy: 0.9960 - val_loss: 0.0227 - learning_rate: 1.0000e-04\n",
      "Epoch 19/100\n",
      "\u001B[1m32/32\u001B[0m \u001B[32m━━━━━━━━━━━━━━━━━━━━\u001B[0m\u001B[37m\u001B[0m \u001B[1m0s\u001B[0m 3ms/step - accuracy: 0.9976 - loss: 0.0243 - val_accuracy: 0.9960 - val_loss: 0.0210 - learning_rate: 1.0000e-04\n",
      "Epoch 20/100\n",
      "\u001B[1m32/32\u001B[0m \u001B[32m━━━━━━━━━━━━━━━━━━━━\u001B[0m\u001B[37m\u001B[0m \u001B[1m0s\u001B[0m 3ms/step - accuracy: 0.9981 - loss: 0.0233 - val_accuracy: 0.9960 - val_loss: 0.0196 - learning_rate: 1.0000e-04\n",
      "Epoch 21/100\n",
      "\u001B[1m32/32\u001B[0m \u001B[32m━━━━━━━━━━━━━━━━━━━━\u001B[0m\u001B[37m\u001B[0m \u001B[1m0s\u001B[0m 3ms/step - accuracy: 1.0000 - loss: 0.0170 - val_accuracy: 0.9960 - val_loss: 0.0194 - learning_rate: 1.0000e-04\n",
      "Epoch 22/100\n",
      "\u001B[1m32/32\u001B[0m \u001B[32m━━━━━━━━━━━━━━━━━━━━\u001B[0m\u001B[37m\u001B[0m \u001B[1m0s\u001B[0m 4ms/step - accuracy: 0.9979 - loss: 0.0205 - val_accuracy: 0.9960 - val_loss: 0.0192 - learning_rate: 1.0000e-04\n",
      "Epoch 23/100\n",
      "\u001B[1m32/32\u001B[0m \u001B[32m━━━━━━━━━━━━━━━━━━━━\u001B[0m\u001B[37m\u001B[0m \u001B[1m0s\u001B[0m 3ms/step - accuracy: 0.9984 - loss: 0.0190 - val_accuracy: 0.9960 - val_loss: 0.0182 - learning_rate: 1.0000e-04\n",
      "Epoch 24/100\n",
      "\u001B[1m32/32\u001B[0m \u001B[32m━━━━━━━━━━━━━━━━━━━━\u001B[0m\u001B[37m\u001B[0m \u001B[1m0s\u001B[0m 4ms/step - accuracy: 0.9964 - loss: 0.0183 - val_accuracy: 1.0000 - val_loss: 0.0164 - learning_rate: 1.0000e-04\n",
      "Epoch 25/100\n",
      "\u001B[1m32/32\u001B[0m \u001B[32m━━━━━━━━━━━━━━━━━━━━\u001B[0m\u001B[37m\u001B[0m \u001B[1m0s\u001B[0m 3ms/step - accuracy: 0.9989 - loss: 0.0163 - val_accuracy: 1.0000 - val_loss: 0.0151 - learning_rate: 1.0000e-04\n",
      "Epoch 26/100\n",
      "\u001B[1m32/32\u001B[0m \u001B[32m━━━━━━━━━━━━━━━━━━━━\u001B[0m\u001B[37m\u001B[0m \u001B[1m0s\u001B[0m 4ms/step - accuracy: 0.9994 - loss: 0.0127 - val_accuracy: 0.9960 - val_loss: 0.0140 - learning_rate: 1.0000e-04\n",
      "Epoch 27/100\n",
      "\u001B[1m32/32\u001B[0m \u001B[32m━━━━━━━━━━━━━━━━━━━━\u001B[0m\u001B[37m\u001B[0m \u001B[1m0s\u001B[0m 4ms/step - accuracy: 0.9998 - loss: 0.0129 - val_accuracy: 1.0000 - val_loss: 0.0133 - learning_rate: 1.0000e-04\n",
      "Epoch 28/100\n",
      "\u001B[1m32/32\u001B[0m \u001B[32m━━━━━━━━━━━━━━━━━━━━\u001B[0m\u001B[37m\u001B[0m \u001B[1m0s\u001B[0m 3ms/step - accuracy: 0.9995 - loss: 0.0121 - val_accuracy: 1.0000 - val_loss: 0.0131 - learning_rate: 1.0000e-04\n",
      "Epoch 29/100\n",
      "\u001B[1m32/32\u001B[0m \u001B[32m━━━━━━━━━━━━━━━━━━━━\u001B[0m\u001B[37m\u001B[0m \u001B[1m0s\u001B[0m 3ms/step - accuracy: 1.0000 - loss: 0.0116 - val_accuracy: 1.0000 - val_loss: 0.0124 - learning_rate: 1.0000e-04\n",
      "Epoch 30/100\n",
      "\u001B[1m32/32\u001B[0m \u001B[32m━━━━━━━━━━━━━━━━━━━━\u001B[0m\u001B[37m\u001B[0m \u001B[1m0s\u001B[0m 3ms/step - accuracy: 1.0000 - loss: 0.0103 - val_accuracy: 1.0000 - val_loss: 0.0125 - learning_rate: 1.0000e-04\n",
      "Epoch 31/100\n",
      "\u001B[1m32/32\u001B[0m \u001B[32m━━━━━━━━━━━━━━━━━━━━\u001B[0m\u001B[37m\u001B[0m \u001B[1m0s\u001B[0m 3ms/step - accuracy: 1.0000 - loss: 0.0115 - val_accuracy: 1.0000 - val_loss: 0.0117 - learning_rate: 1.0000e-04\n",
      "Epoch 32/100\n",
      "\u001B[1m32/32\u001B[0m \u001B[32m━━━━━━━━━━━━━━━━━━━━\u001B[0m\u001B[37m\u001B[0m \u001B[1m0s\u001B[0m 3ms/step - accuracy: 0.9984 - loss: 0.0119 - val_accuracy: 1.0000 - val_loss: 0.0118 - learning_rate: 1.0000e-04\n",
      "Epoch 33/100\n",
      "\u001B[1m32/32\u001B[0m \u001B[32m━━━━━━━━━━━━━━━━━━━━\u001B[0m\u001B[37m\u001B[0m \u001B[1m0s\u001B[0m 3ms/step - accuracy: 1.0000 - loss: 0.0066 - val_accuracy: 1.0000 - val_loss: 0.0113 - learning_rate: 1.0000e-04\n",
      "Epoch 34/100\n",
      "\u001B[1m32/32\u001B[0m \u001B[32m━━━━━━━━━━━━━━━━━━━━\u001B[0m\u001B[37m\u001B[0m \u001B[1m0s\u001B[0m 3ms/step - accuracy: 1.0000 - loss: 0.0067 - val_accuracy: 1.0000 - val_loss: 0.0109 - learning_rate: 1.0000e-04\n",
      "Epoch 35/100\n",
      "\u001B[1m32/32\u001B[0m \u001B[32m━━━━━━━━━━━━━━━━━━━━\u001B[0m\u001B[37m\u001B[0m \u001B[1m0s\u001B[0m 3ms/step - accuracy: 1.0000 - loss: 0.0095 - val_accuracy: 1.0000 - val_loss: 0.0097 - learning_rate: 1.0000e-04\n",
      "Epoch 36/100\n",
      "\u001B[1m32/32\u001B[0m \u001B[32m━━━━━━━━━━━━━━━━━━━━\u001B[0m\u001B[37m\u001B[0m \u001B[1m0s\u001B[0m 3ms/step - accuracy: 0.9995 - loss: 0.0083 - val_accuracy: 1.0000 - val_loss: 0.0091 - learning_rate: 1.0000e-04\n",
      "Epoch 37/100\n",
      "\u001B[1m32/32\u001B[0m \u001B[32m━━━━━━━━━━━━━━━━━━━━\u001B[0m\u001B[37m\u001B[0m \u001B[1m0s\u001B[0m 3ms/step - accuracy: 0.9999 - loss: 0.0095 - val_accuracy: 1.0000 - val_loss: 0.0086 - learning_rate: 1.0000e-04\n",
      "Epoch 38/100\n",
      "\u001B[1m32/32\u001B[0m \u001B[32m━━━━━━━━━━━━━━━━━━━━\u001B[0m\u001B[37m\u001B[0m \u001B[1m0s\u001B[0m 4ms/step - accuracy: 0.9998 - loss: 0.0082 - val_accuracy: 0.9960 - val_loss: 0.0090 - learning_rate: 1.0000e-04\n",
      "Epoch 39/100\n",
      "\u001B[1m32/32\u001B[0m \u001B[32m━━━━━━━━━━━━━━━━━━━━\u001B[0m\u001B[37m\u001B[0m \u001B[1m0s\u001B[0m 3ms/step - accuracy: 0.9995 - loss: 0.0094 - val_accuracy: 1.0000 - val_loss: 0.0085 - learning_rate: 1.0000e-04\n",
      "Epoch 40/100\n",
      "\u001B[1m32/32\u001B[0m \u001B[32m━━━━━━━━━━━━━━━━━━━━\u001B[0m\u001B[37m\u001B[0m \u001B[1m0s\u001B[0m 3ms/step - accuracy: 0.9991 - loss: 0.0090 - val_accuracy: 1.0000 - val_loss: 0.0085 - learning_rate: 1.0000e-04\n",
      "Epoch 41/100\n",
      "\u001B[1m32/32\u001B[0m \u001B[32m━━━━━━━━━━━━━━━━━━━━\u001B[0m\u001B[37m\u001B[0m \u001B[1m0s\u001B[0m 4ms/step - accuracy: 0.9999 - loss: 0.0078 - val_accuracy: 1.0000 - val_loss: 0.0079 - learning_rate: 1.0000e-04\n",
      "Epoch 42/100\n",
      "\u001B[1m32/32\u001B[0m \u001B[32m━━━━━━━━━━━━━━━━━━━━\u001B[0m\u001B[37m\u001B[0m \u001B[1m0s\u001B[0m 3ms/step - accuracy: 0.9997 - loss: 0.0082 - val_accuracy: 1.0000 - val_loss: 0.0077 - learning_rate: 1.0000e-04\n",
      "Epoch 43/100\n",
      "\u001B[1m32/32\u001B[0m \u001B[32m━━━━━━━━━━━━━━━━━━━━\u001B[0m\u001B[37m\u001B[0m \u001B[1m0s\u001B[0m 3ms/step - accuracy: 1.0000 - loss: 0.0082 - val_accuracy: 1.0000 - val_loss: 0.0072 - learning_rate: 1.0000e-04\n",
      "Epoch 44/100\n",
      "\u001B[1m32/32\u001B[0m \u001B[32m━━━━━━━━━━━━━━━━━━━━\u001B[0m\u001B[37m\u001B[0m \u001B[1m0s\u001B[0m 4ms/step - accuracy: 1.0000 - loss: 0.0057 - val_accuracy: 1.0000 - val_loss: 0.0069 - learning_rate: 1.0000e-04\n",
      "Epoch 45/100\n",
      "\u001B[1m32/32\u001B[0m \u001B[32m━━━━━━━━━━━━━━━━━━━━\u001B[0m\u001B[37m\u001B[0m \u001B[1m0s\u001B[0m 3ms/step - accuracy: 1.0000 - loss: 0.0056 - val_accuracy: 1.0000 - val_loss: 0.0067 - learning_rate: 1.0000e-04\n",
      "Epoch 46/100\n",
      "\u001B[1m32/32\u001B[0m \u001B[32m━━━━━━━━━━━━━━━━━━━━\u001B[0m\u001B[37m\u001B[0m \u001B[1m0s\u001B[0m 3ms/step - accuracy: 0.9995 - loss: 0.0059 - val_accuracy: 1.0000 - val_loss: 0.0065 - learning_rate: 1.0000e-04\n",
      "Epoch 47/100\n",
      "\u001B[1m32/32\u001B[0m \u001B[32m━━━━━━━━━━━━━━━━━━━━\u001B[0m\u001B[37m\u001B[0m \u001B[1m0s\u001B[0m 3ms/step - accuracy: 1.0000 - loss: 0.0065 - val_accuracy: 1.0000 - val_loss: 0.0066 - learning_rate: 1.0000e-04\n",
      "Epoch 48/100\n",
      "\u001B[1m32/32\u001B[0m \u001B[32m━━━━━━━━━━━━━━━━━━━━\u001B[0m\u001B[37m\u001B[0m \u001B[1m0s\u001B[0m 3ms/step - accuracy: 1.0000 - loss: 0.0067 - val_accuracy: 1.0000 - val_loss: 0.0066 - learning_rate: 1.0000e-04\n",
      "Epoch 49/100\n",
      "\u001B[1m32/32\u001B[0m \u001B[32m━━━━━━━━━━━━━━━━━━━━\u001B[0m\u001B[37m\u001B[0m \u001B[1m0s\u001B[0m 3ms/step - accuracy: 1.0000 - loss: 0.0062 - val_accuracy: 1.0000 - val_loss: 0.0063 - learning_rate: 1.0000e-04\n",
      "Epoch 50/100\n",
      "\u001B[1m32/32\u001B[0m \u001B[32m━━━━━━━━━━━━━━━━━━━━\u001B[0m\u001B[37m\u001B[0m \u001B[1m0s\u001B[0m 3ms/step - accuracy: 1.0000 - loss: 0.0057 - val_accuracy: 1.0000 - val_loss: 0.0060 - learning_rate: 1.0000e-04\n",
      "Epoch 51/100\n",
      "\u001B[1m32/32\u001B[0m \u001B[32m━━━━━━━━━━━━━━━━━━━━\u001B[0m\u001B[37m\u001B[0m \u001B[1m0s\u001B[0m 3ms/step - accuracy: 1.0000 - loss: 0.0049 - val_accuracy: 1.0000 - val_loss: 0.0059 - learning_rate: 1.0000e-04\n",
      "Epoch 52/100\n",
      "\u001B[1m32/32\u001B[0m \u001B[32m━━━━━━━━━━━━━━━━━━━━\u001B[0m\u001B[37m\u001B[0m \u001B[1m0s\u001B[0m 3ms/step - accuracy: 0.9998 - loss: 0.0051 - val_accuracy: 1.0000 - val_loss: 0.0064 - learning_rate: 1.0000e-04\n",
      "Epoch 53/100\n",
      "\u001B[1m32/32\u001B[0m \u001B[32m━━━━━━━━━━━━━━━━━━━━\u001B[0m\u001B[37m\u001B[0m \u001B[1m0s\u001B[0m 3ms/step - accuracy: 1.0000 - loss: 0.0047 - val_accuracy: 1.0000 - val_loss: 0.0063 - learning_rate: 1.0000e-04\n",
      "Epoch 54/100\n",
      "\u001B[1m32/32\u001B[0m \u001B[32m━━━━━━━━━━━━━━━━━━━━\u001B[0m\u001B[37m\u001B[0m \u001B[1m0s\u001B[0m 3ms/step - accuracy: 1.0000 - loss: 0.0040 - val_accuracy: 1.0000 - val_loss: 0.0059 - learning_rate: 1.0000e-04\n",
      "Epoch 55/100\n",
      "\u001B[1m32/32\u001B[0m \u001B[32m━━━━━━━━━━━━━━━━━━━━\u001B[0m\u001B[37m\u001B[0m \u001B[1m0s\u001B[0m 3ms/step - accuracy: 1.0000 - loss: 0.0061 - val_accuracy: 1.0000 - val_loss: 0.0049 - learning_rate: 1.0000e-04\n",
      "Epoch 56/100\n",
      "\u001B[1m32/32\u001B[0m \u001B[32m━━━━━━━━━━━━━━━━━━━━\u001B[0m\u001B[37m\u001B[0m \u001B[1m0s\u001B[0m 3ms/step - accuracy: 1.0000 - loss: 0.0056 - val_accuracy: 1.0000 - val_loss: 0.0047 - learning_rate: 1.0000e-04\n",
      "Epoch 57/100\n",
      "\u001B[1m32/32\u001B[0m \u001B[32m━━━━━━━━━━━━━━━━━━━━\u001B[0m\u001B[37m\u001B[0m \u001B[1m0s\u001B[0m 3ms/step - accuracy: 0.9976 - loss: 0.0065 - val_accuracy: 1.0000 - val_loss: 0.0045 - learning_rate: 1.0000e-04\n",
      "Epoch 58/100\n",
      "\u001B[1m32/32\u001B[0m \u001B[32m━━━━━━━━━━━━━━━━━━━━\u001B[0m\u001B[37m\u001B[0m \u001B[1m0s\u001B[0m 3ms/step - accuracy: 1.0000 - loss: 0.0086 - val_accuracy: 1.0000 - val_loss: 0.0039 - learning_rate: 1.0000e-04\n",
      "Epoch 59/100\n",
      "\u001B[1m32/32\u001B[0m \u001B[32m━━━━━━━━━━━━━━━━━━━━\u001B[0m\u001B[37m\u001B[0m \u001B[1m0s\u001B[0m 3ms/step - accuracy: 1.0000 - loss: 0.0044 - val_accuracy: 1.0000 - val_loss: 0.0038 - learning_rate: 1.0000e-04\n",
      "Epoch 60/100\n",
      "\u001B[1m32/32\u001B[0m \u001B[32m━━━━━━━━━━━━━━━━━━━━\u001B[0m\u001B[37m\u001B[0m \u001B[1m0s\u001B[0m 3ms/step - accuracy: 1.0000 - loss: 0.0044 - val_accuracy: 1.0000 - val_loss: 0.0039 - learning_rate: 1.0000e-04\n",
      "Epoch 61/100\n",
      "\u001B[1m32/32\u001B[0m \u001B[32m━━━━━━━━━━━━━━━━━━━━\u001B[0m\u001B[37m\u001B[0m \u001B[1m0s\u001B[0m 3ms/step - accuracy: 1.0000 - loss: 0.0046 - val_accuracy: 1.0000 - val_loss: 0.0039 - learning_rate: 1.0000e-04\n",
      "Epoch 62/100\n",
      "\u001B[1m32/32\u001B[0m \u001B[32m━━━━━━━━━━━━━━━━━━━━\u001B[0m\u001B[37m\u001B[0m \u001B[1m0s\u001B[0m 3ms/step - accuracy: 1.0000 - loss: 0.0043 - val_accuracy: 1.0000 - val_loss: 0.0038 - learning_rate: 1.0000e-04\n",
      "Epoch 63/100\n",
      "\u001B[1m32/32\u001B[0m \u001B[32m━━━━━━━━━━━━━━━━━━━━\u001B[0m\u001B[37m\u001B[0m \u001B[1m0s\u001B[0m 3ms/step - accuracy: 1.0000 - loss: 0.0053 - val_accuracy: 1.0000 - val_loss: 0.0038 - learning_rate: 1.0000e-04\n",
      "Epoch 64/100\n",
      "\u001B[1m32/32\u001B[0m \u001B[32m━━━━━━━━━━━━━━━━━━━━\u001B[0m\u001B[37m\u001B[0m \u001B[1m0s\u001B[0m 3ms/step - accuracy: 1.0000 - loss: 0.0036 - val_accuracy: 1.0000 - val_loss: 0.0035 - learning_rate: 1.0000e-04\n",
      "Epoch 65/100\n",
      "\u001B[1m32/32\u001B[0m \u001B[32m━━━━━━━━━━━━━━━━━━━━\u001B[0m\u001B[37m\u001B[0m \u001B[1m0s\u001B[0m 3ms/step - accuracy: 1.0000 - loss: 0.0039 - val_accuracy: 1.0000 - val_loss: 0.0035 - learning_rate: 1.0000e-04\n",
      "Epoch 66/100\n",
      "\u001B[1m32/32\u001B[0m \u001B[32m━━━━━━━━━━━━━━━━━━━━\u001B[0m\u001B[37m\u001B[0m \u001B[1m0s\u001B[0m 3ms/step - accuracy: 1.0000 - loss: 0.0046 - val_accuracy: 1.0000 - val_loss: 0.0032 - learning_rate: 1.0000e-04\n",
      "Epoch 67/100\n",
      "\u001B[1m32/32\u001B[0m \u001B[32m━━━━━━━━━━━━━━━━━━━━\u001B[0m\u001B[37m\u001B[0m \u001B[1m0s\u001B[0m 3ms/step - accuracy: 1.0000 - loss: 0.0028 - val_accuracy: 1.0000 - val_loss: 0.0032 - learning_rate: 1.0000e-04\n",
      "Epoch 68/100\n",
      "\u001B[1m32/32\u001B[0m \u001B[32m━━━━━━━━━━━━━━━━━━━━\u001B[0m\u001B[37m\u001B[0m \u001B[1m0s\u001B[0m 3ms/step - accuracy: 1.0000 - loss: 0.0033 - val_accuracy: 1.0000 - val_loss: 0.0033 - learning_rate: 1.0000e-04\n",
      "Epoch 69/100\n",
      "\u001B[1m32/32\u001B[0m \u001B[32m━━━━━━━━━━━━━━━━━━━━\u001B[0m\u001B[37m\u001B[0m \u001B[1m0s\u001B[0m 3ms/step - accuracy: 1.0000 - loss: 0.0029 - val_accuracy: 1.0000 - val_loss: 0.0033 - learning_rate: 1.0000e-04\n",
      "Epoch 70/100\n",
      "\u001B[1m32/32\u001B[0m \u001B[32m━━━━━━━━━━━━━━━━━━━━\u001B[0m\u001B[37m\u001B[0m \u001B[1m0s\u001B[0m 3ms/step - accuracy: 1.0000 - loss: 0.0029 - val_accuracy: 1.0000 - val_loss: 0.0032 - learning_rate: 1.0000e-04\n",
      "Epoch 71/100\n",
      "\u001B[1m32/32\u001B[0m \u001B[32m━━━━━━━━━━━━━━━━━━━━\u001B[0m\u001B[37m\u001B[0m \u001B[1m0s\u001B[0m 3ms/step - accuracy: 0.9994 - loss: 0.0055 - val_accuracy: 1.0000 - val_loss: 0.0030 - learning_rate: 1.0000e-04\n",
      "Epoch 72/100\n",
      "\u001B[1m32/32\u001B[0m \u001B[32m━━━━━━━━━━━━━━━━━━━━\u001B[0m\u001B[37m\u001B[0m \u001B[1m0s\u001B[0m 3ms/step - accuracy: 1.0000 - loss: 0.0033 - val_accuracy: 1.0000 - val_loss: 0.0032 - learning_rate: 1.0000e-04\n",
      "Epoch 73/100\n",
      "\u001B[1m32/32\u001B[0m \u001B[32m━━━━━━━━━━━━━━━━━━━━\u001B[0m\u001B[37m\u001B[0m \u001B[1m0s\u001B[0m 3ms/step - accuracy: 1.0000 - loss: 0.0024 - val_accuracy: 1.0000 - val_loss: 0.0033 - learning_rate: 1.0000e-04\n",
      "Epoch 74/100\n",
      "\u001B[1m32/32\u001B[0m \u001B[32m━━━━━━━━━━━━━━━━━━━━\u001B[0m\u001B[37m\u001B[0m \u001B[1m0s\u001B[0m 3ms/step - accuracy: 1.0000 - loss: 0.0033 - val_accuracy: 1.0000 - val_loss: 0.0036 - learning_rate: 1.0000e-04\n",
      "Epoch 75/100\n",
      "\u001B[1m32/32\u001B[0m \u001B[32m━━━━━━━━━━━━━━━━━━━━\u001B[0m\u001B[37m\u001B[0m \u001B[1m0s\u001B[0m 3ms/step - accuracy: 0.9996 - loss: 0.0028 - val_accuracy: 1.0000 - val_loss: 0.0034 - learning_rate: 1.0000e-04\n",
      "Epoch 76/100\n",
      "\u001B[1m32/32\u001B[0m \u001B[32m━━━━━━━━━━━━━━━━━━━━\u001B[0m\u001B[37m\u001B[0m \u001B[1m0s\u001B[0m 3ms/step - accuracy: 1.0000 - loss: 0.0030 - val_accuracy: 1.0000 - val_loss: 0.0031 - learning_rate: 1.0000e-04\n",
      "Epoch 77/100\n",
      "\u001B[1m32/32\u001B[0m \u001B[32m━━━━━━━━━━━━━━━━━━━━\u001B[0m\u001B[37m\u001B[0m \u001B[1m0s\u001B[0m 4ms/step - accuracy: 1.0000 - loss: 0.0032 - val_accuracy: 1.0000 - val_loss: 0.0031 - learning_rate: 2.0000e-05\n",
      "Epoch 78/100\n",
      "\u001B[1m32/32\u001B[0m \u001B[32m━━━━━━━━━━━━━━━━━━━━\u001B[0m\u001B[37m\u001B[0m \u001B[1m0s\u001B[0m 4ms/step - accuracy: 1.0000 - loss: 0.0023 - val_accuracy: 1.0000 - val_loss: 0.0031 - learning_rate: 2.0000e-05\n",
      "Epoch 79/100\n",
      "\u001B[1m32/32\u001B[0m \u001B[32m━━━━━━━━━━━━━━━━━━━━\u001B[0m\u001B[37m\u001B[0m \u001B[1m0s\u001B[0m 3ms/step - accuracy: 0.9995 - loss: 0.0050 - val_accuracy: 1.0000 - val_loss: 0.0030 - learning_rate: 2.0000e-05\n",
      "Epoch 80/100\n",
      "\u001B[1m32/32\u001B[0m \u001B[32m━━━━━━━━━━━━━━━━━━━━\u001B[0m\u001B[37m\u001B[0m \u001B[1m0s\u001B[0m 3ms/step - accuracy: 1.0000 - loss: 0.0024 - val_accuracy: 1.0000 - val_loss: 0.0030 - learning_rate: 2.0000e-05\n",
      "Epoch 81/100\n",
      "\u001B[1m32/32\u001B[0m \u001B[32m━━━━━━━━━━━━━━━━━━━━\u001B[0m\u001B[37m\u001B[0m \u001B[1m0s\u001B[0m 4ms/step - accuracy: 0.9999 - loss: 0.0022 - val_accuracy: 1.0000 - val_loss: 0.0029 - learning_rate: 2.0000e-05\n",
      "Epoch 82/100\n",
      "\u001B[1m32/32\u001B[0m \u001B[32m━━━━━━━━━━━━━━━━━━━━\u001B[0m\u001B[37m\u001B[0m \u001B[1m0s\u001B[0m 3ms/step - accuracy: 1.0000 - loss: 0.0023 - val_accuracy: 1.0000 - val_loss: 0.0031 - learning_rate: 2.0000e-05\n",
      "Epoch 83/100\n",
      "\u001B[1m32/32\u001B[0m \u001B[32m━━━━━━━━━━━━━━━━━━━━\u001B[0m\u001B[37m\u001B[0m \u001B[1m0s\u001B[0m 3ms/step - accuracy: 1.0000 - loss: 0.0027 - val_accuracy: 1.0000 - val_loss: 0.0031 - learning_rate: 2.0000e-05\n",
      "Epoch 84/100\n",
      "\u001B[1m32/32\u001B[0m \u001B[32m━━━━━━━━━━━━━━━━━━━━\u001B[0m\u001B[37m\u001B[0m \u001B[1m0s\u001B[0m 3ms/step - accuracy: 1.0000 - loss: 0.0033 - val_accuracy: 1.0000 - val_loss: 0.0031 - learning_rate: 2.0000e-05\n",
      "Epoch 85/100\n",
      "\u001B[1m32/32\u001B[0m \u001B[32m━━━━━━━━━━━━━━━━━━━━\u001B[0m\u001B[37m\u001B[0m \u001B[1m0s\u001B[0m 3ms/step - accuracy: 1.0000 - loss: 0.0022 - val_accuracy: 1.0000 - val_loss: 0.0030 - learning_rate: 2.0000e-05\n",
      "Epoch 86/100\n",
      "\u001B[1m32/32\u001B[0m \u001B[32m━━━━━━━━━━━━━━━━━━━━\u001B[0m\u001B[37m\u001B[0m \u001B[1m0s\u001B[0m 3ms/step - accuracy: 0.9999 - loss: 0.0026 - val_accuracy: 1.0000 - val_loss: 0.0030 - learning_rate: 2.0000e-05\n",
      "Epoch 87/100\n",
      "\u001B[1m32/32\u001B[0m \u001B[32m━━━━━━━━━━━━━━━━━━━━\u001B[0m\u001B[37m\u001B[0m \u001B[1m0s\u001B[0m 3ms/step - accuracy: 1.0000 - loss: 0.0034 - val_accuracy: 1.0000 - val_loss: 0.0030 - learning_rate: 4.0000e-06\n",
      "Epoch 88/100\n",
      "\u001B[1m32/32\u001B[0m \u001B[32m━━━━━━━━━━━━━━━━━━━━\u001B[0m\u001B[37m\u001B[0m \u001B[1m0s\u001B[0m 3ms/step - accuracy: 1.0000 - loss: 0.0021 - val_accuracy: 1.0000 - val_loss: 0.0029 - learning_rate: 4.0000e-06\n",
      "Epoch 89/100\n",
      "\u001B[1m32/32\u001B[0m \u001B[32m━━━━━━━━━━━━━━━━━━━━\u001B[0m\u001B[37m\u001B[0m \u001B[1m0s\u001B[0m 4ms/step - accuracy: 1.0000 - loss: 0.0023 - val_accuracy: 1.0000 - val_loss: 0.0030 - learning_rate: 4.0000e-06\n",
      "Epoch 90/100\n",
      "\u001B[1m32/32\u001B[0m \u001B[32m━━━━━━━━━━━━━━━━━━━━\u001B[0m\u001B[37m\u001B[0m \u001B[1m0s\u001B[0m 3ms/step - accuracy: 1.0000 - loss: 0.0028 - val_accuracy: 1.0000 - val_loss: 0.0030 - learning_rate: 4.0000e-06\n",
      "Epoch 91/100\n",
      "\u001B[1m32/32\u001B[0m \u001B[32m━━━━━━━━━━━━━━━━━━━━\u001B[0m\u001B[37m\u001B[0m \u001B[1m0s\u001B[0m 3ms/step - accuracy: 1.0000 - loss: 0.0014 - val_accuracy: 1.0000 - val_loss: 0.0030 - learning_rate: 4.0000e-06\n",
      "Epoch 92/100\n",
      "\u001B[1m32/32\u001B[0m \u001B[32m━━━━━━━━━━━━━━━━━━━━\u001B[0m\u001B[37m\u001B[0m \u001B[1m0s\u001B[0m 3ms/step - accuracy: 1.0000 - loss: 0.0024 - val_accuracy: 1.0000 - val_loss: 0.0030 - learning_rate: 1.0000e-06\n",
      "Epoch 93/100\n",
      "\u001B[1m32/32\u001B[0m \u001B[32m━━━━━━━━━━━━━━━━━━━━\u001B[0m\u001B[37m\u001B[0m \u001B[1m0s\u001B[0m 3ms/step - accuracy: 1.0000 - loss: 0.0041 - val_accuracy: 1.0000 - val_loss: 0.0030 - learning_rate: 1.0000e-06\n",
      "Epoch 94/100\n",
      "\u001B[1m32/32\u001B[0m \u001B[32m━━━━━━━━━━━━━━━━━━━━\u001B[0m\u001B[37m\u001B[0m \u001B[1m0s\u001B[0m 3ms/step - accuracy: 1.0000 - loss: 0.0020 - val_accuracy: 1.0000 - val_loss: 0.0030 - learning_rate: 1.0000e-06\n",
      "Epoch 95/100\n",
      "\u001B[1m32/32\u001B[0m \u001B[32m━━━━━━━━━━━━━━━━━━━━\u001B[0m\u001B[37m\u001B[0m \u001B[1m0s\u001B[0m 3ms/step - accuracy: 0.9997 - loss: 0.0036 - val_accuracy: 1.0000 - val_loss: 0.0031 - learning_rate: 1.0000e-06\n",
      "Epoch 96/100\n",
      "\u001B[1m32/32\u001B[0m \u001B[32m━━━━━━━━━━━━━━━━━━━━\u001B[0m\u001B[37m\u001B[0m \u001B[1m0s\u001B[0m 3ms/step - accuracy: 1.0000 - loss: 0.0023 - val_accuracy: 1.0000 - val_loss: 0.0031 - learning_rate: 1.0000e-06\n",
      "Epoch 97/100\n",
      "\u001B[1m32/32\u001B[0m \u001B[32m━━━━━━━━━━━━━━━━━━━━\u001B[0m\u001B[37m\u001B[0m \u001B[1m0s\u001B[0m 3ms/step - accuracy: 1.0000 - loss: 0.0016 - val_accuracy: 1.0000 - val_loss: 0.0031 - learning_rate: 1.0000e-06\n",
      "Epoch 98/100\n",
      "\u001B[1m32/32\u001B[0m \u001B[32m━━━━━━━━━━━━━━━━━━━━\u001B[0m\u001B[37m\u001B[0m \u001B[1m0s\u001B[0m 3ms/step - accuracy: 1.0000 - loss: 0.0018 - val_accuracy: 1.0000 - val_loss: 0.0031 - learning_rate: 1.0000e-06\n"
     ]
    },
    {
     "data": {
      "text/plain": [
       "['label_encoder.pkl']"
      ]
     },
     "execution_count": 54,
     "metadata": {},
     "output_type": "execute_result"
    }
   ],
   "execution_count": 54
  },
  {
   "metadata": {
    "ExecuteTime": {
     "end_time": "2025-05-14T16:05:06.986496Z",
     "start_time": "2025-05-14T16:05:06.979933Z"
    }
   },
   "cell_type": "code",
   "source": [
    "# --- MAIN PAIRING FUNCTION ---\n",
    "def pair_test_images_and_texts(batch_size=32):\n",
    "    test_paired_data = []\n",
    "\n",
    "    for test_disease_class in os.listdir(TEST_IMG_DIR):\n",
    "        test_img_folder = os.path.join(TEST_IMG_DIR, test_disease_class)\n",
    "        test_text_file = os.path.join(TEST_TEXT_DIR, f\"{test_disease_class}.csv\")\n",
    "\n",
    "        if not os.path.isdir(test_img_folder) or not os.path.isfile(test_text_file):\n",
    "            print(f\"[SKIP] {test_disease_class}: Folder or CSV not found.\")\n",
    "            continue\n",
    "\n",
    "        test_image_files = sorted([\n",
    "            f for f in os.listdir(test_img_folder)\n",
    "            if f.lower().endswith(('.jpg', '.jpeg', '.png'))\n",
    "        ])\n",
    "        test_df_text = pd.read_csv(test_text_file)\n",
    "        test_text_lines = test_df_text.iloc[:, 0].tolist()\n",
    "\n",
    "        if len(test_image_files) != len(test_text_lines):\n",
    "            print(f\"[WARNING] Mismatch in {test_disease_class}: {len(test_image_files)} images vs {len(test_text_lines)} texts\")\n",
    "            continue\n",
    "\n",
    "        for i in range(0, len(test_image_files), batch_size):\n",
    "            batch_test_imgs = []\n",
    "            batch_test_texts = []\n",
    "\n",
    "            for img_name, text in zip(test_image_files[i:i+batch_size], test_text_lines[i:i+batch_size]):\n",
    "                img_path = os.path.join(test_img_folder, img_name)\n",
    "                img_array = load_image(img_path)\n",
    "                if img_array is not None:\n",
    "                    batch_test_imgs.append(img_array)\n",
    "                    batch_test_texts.append(text)\n",
    "\n",
    "            if batch_test_imgs and batch_test_texts:\n",
    "                test_img_feats = extract_img_feature(np.vstack(batch_test_imgs))\n",
    "                test_text_feats = embed_text(batch_test_texts)\n",
    "                test_paired_data.extend([\n",
    "                    (np.concatenate((img_feat, text_feat)), test_disease_class)\n",
    "                    for img_feat, text_feat in zip(test_img_feats, test_text_feats)\n",
    "                ])\n",
    "\n",
    "            gc.collect()\n",
    "\n",
    "    return test_paired_data"
   ],
   "id": "dd2398f6aec8e436",
   "outputs": [],
   "execution_count": 55
  },
  {
   "metadata": {
    "ExecuteTime": {
     "end_time": "2025-05-14T16:06:09.398320Z",
     "start_time": "2025-05-14T16:05:07.025529Z"
    }
   },
   "cell_type": "code",
   "source": [
    "# --- FINALIZE TEST FEATURES ---\n",
    "test_paired_data = pair_test_images_and_texts(batch_size=32)"
   ],
   "id": "899d8df0193ec0e3",
   "outputs": [
    {
     "name": "stdout",
     "output_type": "stream",
     "text": [
      "\u001B[1m1/1\u001B[0m \u001B[32m━━━━━━━━━━━━━━━━━━━━\u001B[0m\u001B[37m\u001B[0m \u001B[1m0s\u001B[0m 289ms/step\n",
      "\u001B[1m1/1\u001B[0m \u001B[32m━━━━━━━━━━━━━━━━━━━━\u001B[0m\u001B[37m\u001B[0m \u001B[1m1s\u001B[0m 656ms/step\n",
      "[SKIP] .DS_Store: Folder or CSV not found.\n",
      "\u001B[1m1/1\u001B[0m \u001B[32m━━━━━━━━━━━━━━━━━━━━\u001B[0m\u001B[37m\u001B[0m \u001B[1m0s\u001B[0m 359ms/step\n",
      "\u001B[1m1/1\u001B[0m \u001B[32m━━━━━━━━━━━━━━━━━━━━\u001B[0m\u001B[37m\u001B[0m \u001B[1m1s\u001B[0m 535ms/step\n",
      "\u001B[1m1/1\u001B[0m \u001B[32m━━━━━━━━━━━━━━━━━━━━\u001B[0m\u001B[37m\u001B[0m \u001B[1m1s\u001B[0m 816ms/step\n",
      "\u001B[1m1/1\u001B[0m \u001B[32m━━━━━━━━━━━━━━━━━━━━\u001B[0m\u001B[37m\u001B[0m \u001B[1m1s\u001B[0m 915ms/step\n",
      "\u001B[1m1/1\u001B[0m \u001B[32m━━━━━━━━━━━━━━━━━━━━\u001B[0m\u001B[37m\u001B[0m \u001B[1m1s\u001B[0m 691ms/step\n",
      "\u001B[1m1/1\u001B[0m \u001B[32m━━━━━━━━━━━━━━━━━━━━\u001B[0m\u001B[37m\u001B[0m \u001B[1m1s\u001B[0m 574ms/step\n",
      "\u001B[1m1/1\u001B[0m \u001B[32m━━━━━━━━━━━━━━━━━━━━\u001B[0m\u001B[37m\u001B[0m \u001B[1m1s\u001B[0m 678ms/step\n",
      "\u001B[1m1/1\u001B[0m \u001B[32m━━━━━━━━━━━━━━━━━━━━\u001B[0m\u001B[37m\u001B[0m \u001B[1m1s\u001B[0m 533ms/step\n"
     ]
    }
   ],
   "execution_count": 56
  },
  {
   "metadata": {
    "ExecuteTime": {
     "end_time": "2025-05-14T16:06:09.679849Z",
     "start_time": "2025-05-14T16:06:09.646183Z"
    }
   },
   "cell_type": "code",
   "source": [
    "# --- PREPARE TEST DATA ---\n",
    "if not test_paired_data:\n",
    "    print(\"[ERROR] No test data was paired successfully.\")\n",
    "    exit(1)\n",
    "\n",
    "# Split test data into features and labels\n",
    "test_features_raw, test_labels_raw = zip(*test_paired_data)\n",
    "X_test = np.array(test_features_raw)\n",
    "y_test = np.array(test_labels_raw)\n",
    "\n",
    "# Load the scaler and label encoder\n",
    "scaler = joblib.load(SCALER_PATH)\n",
    "le = joblib.load(LABEL_ENCODER_PATH)\n",
    "\n",
    "# Preprocess test data\n",
    "X_test_scaled = scaler.transform(X_test)\n",
    "y_test_encoded = le.transform(y_test)\n",
    "y_test_categorical = to_categorical(y_test_encoded)"
   ],
   "id": "78547fd4c3f8626f",
   "outputs": [],
   "execution_count": 57
  },
  {
   "metadata": {
    "ExecuteTime": {
     "end_time": "2025-05-14T16:06:09.818512Z",
     "start_time": "2025-05-14T16:06:09.690677Z"
    }
   },
   "cell_type": "code",
   "source": [
    "# --- LOAD THE SAVED MODEL ---\n",
    "model = load_model(SAVE_MODEL_PATH)\n",
    "model.compile(optimizer=Adam(learning_rate=0.0001),\n",
    "              loss='categorical_crossentropy',\n",
    "              metrics=['accuracy'])"
   ],
   "id": "959572b918402b8b",
   "outputs": [],
   "execution_count": 58
  },
  {
   "metadata": {
    "ExecuteTime": {
     "end_time": "2025-05-14T16:06:10.182259Z",
     "start_time": "2025-05-14T16:06:09.931107Z"
    }
   },
   "cell_type": "code",
   "source": [
    "# --- EVALUATE ON TEST SET ---\n",
    "# Get loss and accuracy\n",
    "test_loss, test_acc = model.evaluate(X_test_scaled, y_test_categorical, verbose=1)\n",
    "print(f\"\\nTest Accuracy: {test_acc:.4f}\")\n",
    "print(f\"Test Loss: {test_loss:.4f}\")"
   ],
   "id": "eab91141e8e15bb7",
   "outputs": [
    {
     "name": "stdout",
     "output_type": "stream",
     "text": [
      "\u001B[1m10/10\u001B[0m \u001B[32m━━━━━━━━━━━━━━━━━━━━\u001B[0m\u001B[37m\u001B[0m \u001B[1m0s\u001B[0m 3ms/step - accuracy: 0.9307 - loss: 0.1749  \n",
      "\n",
      "Test Accuracy: 0.9484\n",
      "Test Loss: 0.1264\n"
     ]
    }
   ],
   "execution_count": 59
  },
  {
   "metadata": {
    "ExecuteTime": {
     "end_time": "2025-05-14T16:06:10.345062Z",
     "start_time": "2025-05-14T16:06:10.253883Z"
    }
   },
   "cell_type": "code",
   "source": [
    "predictions = model.predict(X_test_scaled)\n",
    "predicted_labels = np.argmax(predictions, axis=1)"
   ],
   "id": "32ca4b6632e2e804",
   "outputs": [
    {
     "name": "stdout",
     "output_type": "stream",
     "text": [
      "\u001B[1m10/10\u001B[0m \u001B[32m━━━━━━━━━━━━━━━━━━━━\u001B[0m\u001B[37m\u001B[0m \u001B[1m0s\u001B[0m 3ms/step \n"
     ]
    }
   ],
   "execution_count": 60
  },
  {
   "metadata": {
    "ExecuteTime": {
     "end_time": "2025-05-14T16:06:10.400139Z",
     "start_time": "2025-05-14T16:06:10.386949Z"
    }
   },
   "cell_type": "code",
   "source": [
    "# Classification Report\n",
    "report = classification_report(y_test_encoded, predicted_labels,\n",
    "                              target_names=DISEASE_CLASSES)\n",
    "print(\"\\nClassification Report:\")\n",
    "report"
   ],
   "id": "5dec206c7831f3ef",
   "outputs": [
    {
     "name": "stdout",
     "output_type": "stream",
     "text": [
      "\n",
      "Classification Report:\n"
     ]
    },
    {
     "data": {
      "text/plain": [
       "'                  precision    recall  f1-score   support\\n\\n            ปกติ       1.00      1.00      1.00        62\\n    โรคขอบใบแห้ง       0.98      0.95      0.97        62\\nโรคใบขีดโปร่งแสง       0.95      1.00      0.98        62\\nโรคใบจุดสีน้ำตาล       0.87      0.95      0.91        62\\n         โรคไหม้       0.95      0.84      0.89        62\\n\\n        accuracy                           0.95       310\\n       macro avg       0.95      0.95      0.95       310\\n    weighted avg       0.95      0.95      0.95       310\\n'"
      ]
     },
     "execution_count": 61,
     "metadata": {},
     "output_type": "execute_result"
    }
   ],
   "execution_count": 61
  },
  {
   "metadata": {
    "ExecuteTime": {
     "end_time": "2025-05-14T16:06:10.556906Z",
     "start_time": "2025-05-14T16:06:10.440908Z"
    }
   },
   "cell_type": "code",
   "source": [
    "# --- VISUALIZE RESULTS ---\n",
    "font_path = 'fonts/NotoSansThai-VariableFont_wdth,wght.ttf'\n",
    "thai_font = fm.FontProperties(fname=font_path)\n",
    "def plot_confusion_matrix(cm, classes, normalize=False, title='Confusion Matrix', cmap=plt.cm.Blues):\n",
    "    plt.figure(figsize=(8, 6))\n",
    "    plt.imshow(cm, interpolation='nearest', cmap=cmap)\n",
    "    plt.title(title, fontproperties=thai_font)\n",
    "    plt.colorbar()\n",
    "    tick_marks = np.arange(len(classes))\n",
    "\n",
    "    # Use Thai font for tick labels\n",
    "    plt.xticks(tick_marks, classes, rotation=45, fontproperties=thai_font)\n",
    "    plt.yticks(tick_marks, classes, fontproperties=thai_font)\n",
    "\n",
    "    if normalize:\n",
    "        cm = cm.astype('float') / cm.sum(axis=1)[:, np.newaxis]\n",
    "\n",
    "    thresh = cm.max() / 2.\n",
    "    for i in range(cm.shape[0]):\n",
    "        for j in range(cm.shape[1]):\n",
    "            plt.text(j, i, f'{cm[i, j]:.2f}' if normalize else cm[i, j],\n",
    "                     horizontalalignment=\"center\",\n",
    "                     color=\"white\" if cm[i, j] > thresh else \"black\",\n",
    "                     fontproperties=thai_font)\n",
    "\n",
    "    plt.tight_layout()\n",
    "    plt.ylabel('True label', fontproperties=thai_font)\n",
    "    plt.xlabel('Predicted label', fontproperties=thai_font)\n",
    "    plt.show()\n",
    "\n",
    "\n",
    "# Plot confusion matrix\n",
    "\n",
    "plot_confusion_matrix(cm, DISEASE_CLASSES)"
   ],
   "id": "6b2f368291084e2a",
   "outputs": [
    {
     "data": {
      "text/plain": [
       "<Figure size 800x600 with 2 Axes>"
      ],
      "image/png": "[encoded data removed]"
     },
     "metadata": {},
     "output_type": "display_data"
    }
   ],
   "execution_count": 62
  },
  {
   "metadata": {
    "ExecuteTime": {
     "end_time": "2025-05-14T16:06:10.647560Z",
     "start_time": "2025-05-14T16:06:10.592419Z"
    }
   },
   "cell_type": "code",
   "source": [
    "plt.plot(history.history['accuracy'], label='Train Accuracy')\n",
    "plt.plot(history.history['val_accuracy'], label='Val Accuracy')\n",
    "plt.legend()"
   ],
   "id": "7f432b21b9371af3",
   "outputs": [
    {
     "data": {
      "text/plain": [
       "<matplotlib.legend.Legend at 0x34d62a890>"
      ]
     },
     "execution_count": 63,
     "metadata": {},
     "output_type": "execute_result"
    },
    {
     "data": {
      "text/plain": [
       "<Figure size 640x480 with 1 Axes>"
      ],
      "image/png": "[encoded data removed]"
     },
     "metadata": {},
     "output_type": "display_data"
    }
   ],
   "execution_count": 63
  }
 ],
 "metadata": {},
 "nbformat": 4,
 "nbformat_minor": 5
}
